{
 "cells": [
  {
   "cell_type": "code",
   "execution_count": 12,
   "metadata": {
    "collapsed": true
   },
   "outputs": [],
   "source": [
    "import pandas as pd\n",
    "import json"
   ]
  },
  {
   "cell_type": "code",
   "execution_count": 3,
   "outputs": [],
   "source": [
    "df_taz_id_edges = pd.read_csv(\"../data/sf_n_o_minimal_edge.csv\")\n",
    "df_mov_id_taz_id = pd.read_csv(\"../data/mov_taz_ids_sf_n_o_minimal.csv\")"
   ],
   "metadata": {
    "collapsed": false,
    "pycharm": {
     "name": "#%%\n"
    }
   }
  },
  {
   "cell_type": "code",
   "execution_count": 4,
   "outputs": [
    {
     "data": {
      "text/plain": "   taz_id       edge_id\n0  100015  -254466686#6\n1  100015  -254466686#7\n2  100015   254466686#5\n3  100015   254466686#6\n4  100015   254466686#7",
      "text/html": "<div>\n<style scoped>\n    .dataframe tbody tr th:only-of-type {\n        vertical-align: middle;\n    }\n\n    .dataframe tbody tr th {\n        vertical-align: top;\n    }\n\n    .dataframe thead th {\n        text-align: right;\n    }\n</style>\n<table border=\"1\" class=\"dataframe\">\n  <thead>\n    <tr style=\"text-align: right;\">\n      <th></th>\n      <th>taz_id</th>\n      <th>edge_id</th>\n    </tr>\n  </thead>\n  <tbody>\n    <tr>\n      <th>0</th>\n      <td>100015</td>\n      <td>-254466686#6</td>\n    </tr>\n    <tr>\n      <th>1</th>\n      <td>100015</td>\n      <td>-254466686#7</td>\n    </tr>\n    <tr>\n      <th>2</th>\n      <td>100015</td>\n      <td>254466686#5</td>\n    </tr>\n    <tr>\n      <th>3</th>\n      <td>100015</td>\n      <td>254466686#6</td>\n    </tr>\n    <tr>\n      <th>4</th>\n      <td>100015</td>\n      <td>254466686#7</td>\n    </tr>\n  </tbody>\n</table>\n</div>"
     },
     "execution_count": 4,
     "metadata": {},
     "output_type": "execute_result"
    }
   ],
   "source": [
    "df_taz_id_edges.head()"
   ],
   "metadata": {
    "collapsed": false,
    "pycharm": {
     "name": "#%%\n"
    }
   }
  },
  {
   "cell_type": "code",
   "execution_count": 6,
   "outputs": [
    {
     "data": {
      "text/plain": "(3267, 2)"
     },
     "execution_count": 6,
     "metadata": {},
     "output_type": "execute_result"
    }
   ],
   "source": [
    "df_taz_id_edges.shape"
   ],
   "metadata": {
    "collapsed": false,
    "pycharm": {
     "name": "#%%\n"
    }
   }
  },
  {
   "cell_type": "code",
   "execution_count": 5,
   "outputs": [
    {
     "data": {
      "text/plain": "   movement_id  taz_id\n0         3394  100284\n1         3411  100304\n2         3413  100291\n3         3414  100283\n4         3423  100302",
      "text/html": "<div>\n<style scoped>\n    .dataframe tbody tr th:only-of-type {\n        vertical-align: middle;\n    }\n\n    .dataframe tbody tr th {\n        vertical-align: top;\n    }\n\n    .dataframe thead th {\n        text-align: right;\n    }\n</style>\n<table border=\"1\" class=\"dataframe\">\n  <thead>\n    <tr style=\"text-align: right;\">\n      <th></th>\n      <th>movement_id</th>\n      <th>taz_id</th>\n    </tr>\n  </thead>\n  <tbody>\n    <tr>\n      <th>0</th>\n      <td>3394</td>\n      <td>100284</td>\n    </tr>\n    <tr>\n      <th>1</th>\n      <td>3411</td>\n      <td>100304</td>\n    </tr>\n    <tr>\n      <th>2</th>\n      <td>3413</td>\n      <td>100291</td>\n    </tr>\n    <tr>\n      <th>3</th>\n      <td>3414</td>\n      <td>100283</td>\n    </tr>\n    <tr>\n      <th>4</th>\n      <td>3423</td>\n      <td>100302</td>\n    </tr>\n  </tbody>\n</table>\n</div>"
     },
     "execution_count": 5,
     "metadata": {},
     "output_type": "execute_result"
    }
   ],
   "source": [
    "df_mov_id_taz_id.head()"
   ],
   "metadata": {
    "collapsed": false,
    "pycharm": {
     "name": "#%%\n"
    }
   }
  },
  {
   "cell_type": "code",
   "execution_count": 7,
   "outputs": [
    {
     "data": {
      "text/plain": "(131, 2)"
     },
     "execution_count": 7,
     "metadata": {},
     "output_type": "execute_result"
    }
   ],
   "source": [
    "df_mov_id_taz_id.shape"
   ],
   "metadata": {
    "collapsed": false,
    "pycharm": {
     "name": "#%%\n"
    }
   }
  },
  {
   "cell_type": "code",
   "execution_count": 8,
   "outputs": [],
   "source": [
    "df_mov_id_edges = pd.merge(df_mov_id_taz_id, df_taz_id_edges, how=\"inner\", on=[\"taz_id\"]).reset_index()"
   ],
   "metadata": {
    "collapsed": false,
    "pycharm": {
     "name": "#%%\n"
    }
   }
  },
  {
   "cell_type": "code",
   "execution_count": 9,
   "outputs": [
    {
     "data": {
      "text/plain": "   index  movement_id  taz_id       edge_id\n0      0         3394  100284  -143666206#0\n1      1         3394  100284  -143666206#1\n2      2         3394  100284  -143666206#2\n3      3         3394  100284  -143666208#0\n4      4         3394  100284  -143666208#1",
      "text/html": "<div>\n<style scoped>\n    .dataframe tbody tr th:only-of-type {\n        vertical-align: middle;\n    }\n\n    .dataframe tbody tr th {\n        vertical-align: top;\n    }\n\n    .dataframe thead th {\n        text-align: right;\n    }\n</style>\n<table border=\"1\" class=\"dataframe\">\n  <thead>\n    <tr style=\"text-align: right;\">\n      <th></th>\n      <th>index</th>\n      <th>movement_id</th>\n      <th>taz_id</th>\n      <th>edge_id</th>\n    </tr>\n  </thead>\n  <tbody>\n    <tr>\n      <th>0</th>\n      <td>0</td>\n      <td>3394</td>\n      <td>100284</td>\n      <td>-143666206#0</td>\n    </tr>\n    <tr>\n      <th>1</th>\n      <td>1</td>\n      <td>3394</td>\n      <td>100284</td>\n      <td>-143666206#1</td>\n    </tr>\n    <tr>\n      <th>2</th>\n      <td>2</td>\n      <td>3394</td>\n      <td>100284</td>\n      <td>-143666206#2</td>\n    </tr>\n    <tr>\n      <th>3</th>\n      <td>3</td>\n      <td>3394</td>\n      <td>100284</td>\n      <td>-143666208#0</td>\n    </tr>\n    <tr>\n      <th>4</th>\n      <td>4</td>\n      <td>3394</td>\n      <td>100284</td>\n      <td>-143666208#1</td>\n    </tr>\n  </tbody>\n</table>\n</div>"
     },
     "execution_count": 9,
     "metadata": {},
     "output_type": "execute_result"
    }
   ],
   "source": [
    "df_mov_id_edges.head()"
   ],
   "metadata": {
    "collapsed": false,
    "pycharm": {
     "name": "#%%\n"
    }
   }
  },
  {
   "cell_type": "code",
   "execution_count": 10,
   "outputs": [
    {
     "data": {
      "text/plain": "(3267, 4)"
     },
     "execution_count": 10,
     "metadata": {},
     "output_type": "execute_result"
    }
   ],
   "source": [
    "df_mov_id_edges.shape"
   ],
   "metadata": {
    "collapsed": false,
    "pycharm": {
     "name": "#%%\n"
    }
   }
  },
  {
   "cell_type": "code",
   "execution_count": 11,
   "outputs": [],
   "source": [
    "mov_id_edges_dict = {}\n",
    "\n",
    "for index, row in df_mov_id_edges.iterrows():\n",
    "    k = f\"{row['movement_id']}\"\n",
    "    if not k in mov_id_edges_dict:\n",
    "        mov_id_edges_dict[f\"{row['movement_id']}\"] = []\n",
    "    else:\n",
    "        mov_id_edges_dict[f\"{row['movement_id']}\"].append(row[\"edge_id\"])"
   ],
   "metadata": {
    "collapsed": false,
    "pycharm": {
     "name": "#%%\n"
    }
   }
  },
  {
   "cell_type": "code",
   "execution_count": 14,
   "outputs": [],
   "source": [
    "with open(\"../data/sf_n_o_minimal_mov_edges_dict.json\",\"w\") as mov_edges_file:\n",
    "    json.dump(mov_id_edges_dict, mov_edges_file)"
   ],
   "metadata": {
    "collapsed": false,
    "pycharm": {
     "name": "#%%\n"
    }
   }
  },
  {
   "cell_type": "code",
   "execution_count": null,
   "outputs": [],
   "source": [],
   "metadata": {
    "collapsed": false,
    "pycharm": {
     "name": "#%%\n"
    }
   }
  }
 ],
 "metadata": {
  "kernelspec": {
   "display_name": "Python 3",
   "language": "python",
   "name": "python3"
  },
  "language_info": {
   "codemirror_mode": {
    "name": "ipython",
    "version": 2
   },
   "file_extension": ".py",
   "mimetype": "text/x-python",
   "name": "python",
   "nbconvert_exporter": "python",
   "pygments_lexer": "ipython2",
   "version": "2.7.6"
  }
 },
 "nbformat": 4,
 "nbformat_minor": 0
}