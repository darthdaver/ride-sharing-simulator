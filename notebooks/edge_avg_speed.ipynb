{
 "cells": [
  {
   "cell_type": "code",
   "execution_count": 1,
   "metadata": {
    "collapsed": true
   },
   "outputs": [],
   "source": [
    "import pandas as pd"
   ]
  },
  {
   "cell_type": "code",
   "execution_count": 25,
   "outputs": [],
   "source": [
    "df_edge = pd.read_csv(\"../data/sf_n_o_minimal_clean_edge.csv\")\n",
    "df_speed = pd.read_csv(\"../data/movement-speeds-quarterly-by-hod-san-francisco-2020-Q1.csv\")[[\"osm_way_id\",\"speed_mph_mean\"]]"
   ],
   "metadata": {
    "collapsed": false,
    "pycharm": {
     "name": "#%%\n"
    }
   }
  },
  {
   "cell_type": "code",
   "execution_count": 26,
   "outputs": [
    {
     "data": {
      "text/plain": "   osm_way_id  speed_mph_mean\n0    40722998          26.078\n1    40722998          22.416\n2    40722998          20.154\n3    40722998          22.133\n4    40722998          27.004",
      "text/html": "<div>\n<style scoped>\n    .dataframe tbody tr th:only-of-type {\n        vertical-align: middle;\n    }\n\n    .dataframe tbody tr th {\n        vertical-align: top;\n    }\n\n    .dataframe thead th {\n        text-align: right;\n    }\n</style>\n<table border=\"1\" class=\"dataframe\">\n  <thead>\n    <tr style=\"text-align: right;\">\n      <th></th>\n      <th>osm_way_id</th>\n      <th>speed_mph_mean</th>\n    </tr>\n  </thead>\n  <tbody>\n    <tr>\n      <th>0</th>\n      <td>40722998</td>\n      <td>26.078</td>\n    </tr>\n    <tr>\n      <th>1</th>\n      <td>40722998</td>\n      <td>22.416</td>\n    </tr>\n    <tr>\n      <th>2</th>\n      <td>40722998</td>\n      <td>20.154</td>\n    </tr>\n    <tr>\n      <th>3</th>\n      <td>40722998</td>\n      <td>22.133</td>\n    </tr>\n    <tr>\n      <th>4</th>\n      <td>40722998</td>\n      <td>27.004</td>\n    </tr>\n  </tbody>\n</table>\n</div>"
     },
     "execution_count": 26,
     "metadata": {},
     "output_type": "execute_result"
    }
   ],
   "source": [
    "df_speed.head()"
   ],
   "metadata": {
    "collapsed": false,
    "pycharm": {
     "name": "#%%\n"
    }
   }
  },
  {
   "cell_type": "code",
   "execution_count": 27,
   "outputs": [
    {
     "data": {
      "text/plain": "(4900807, 2)"
     },
     "execution_count": 27,
     "metadata": {},
     "output_type": "execute_result"
    }
   ],
   "source": [
    "df_speed.shape"
   ],
   "metadata": {
    "collapsed": false,
    "pycharm": {
     "name": "#%%\n"
    }
   }
  },
  {
   "cell_type": "code",
   "execution_count": 28,
   "outputs": [],
   "source": [
    "df_edge_avg_speed = pd.merge(df_edge, df_speed, how=\"inner\", on=[\"osm_way_id\"])"
   ],
   "metadata": {
    "collapsed": false,
    "pycharm": {
     "name": "#%%\n"
    }
   }
  },
  {
   "cell_type": "code",
   "execution_count": 29,
   "outputs": [],
   "source": [
    "df_edge_avg_speed_mean = df_edge_avg_speed.groupby([\"osm_way_id\"]).mean().reset_index()"
   ],
   "metadata": {
    "collapsed": false,
    "pycharm": {
     "name": "#%%\n"
    }
   }
  },
  {
   "cell_type": "code",
   "execution_count": 30,
   "outputs": [
    {
     "data": {
      "text/plain": "   osm_way_id  speed_mph_mean\n0     8916563       14.222758\n1     8916764       17.897000\n2     8916867       16.806208\n3     8916882       12.073375\n4     8917205       16.307500",
      "text/html": "<div>\n<style scoped>\n    .dataframe tbody tr th:only-of-type {\n        vertical-align: middle;\n    }\n\n    .dataframe tbody tr th {\n        vertical-align: top;\n    }\n\n    .dataframe thead th {\n        text-align: right;\n    }\n</style>\n<table border=\"1\" class=\"dataframe\">\n  <thead>\n    <tr style=\"text-align: right;\">\n      <th></th>\n      <th>osm_way_id</th>\n      <th>speed_mph_mean</th>\n    </tr>\n  </thead>\n  <tbody>\n    <tr>\n      <th>0</th>\n      <td>8916563</td>\n      <td>14.222758</td>\n    </tr>\n    <tr>\n      <th>1</th>\n      <td>8916764</td>\n      <td>17.897000</td>\n    </tr>\n    <tr>\n      <th>2</th>\n      <td>8916867</td>\n      <td>16.806208</td>\n    </tr>\n    <tr>\n      <th>3</th>\n      <td>8916882</td>\n      <td>12.073375</td>\n    </tr>\n    <tr>\n      <th>4</th>\n      <td>8917205</td>\n      <td>16.307500</td>\n    </tr>\n  </tbody>\n</table>\n</div>"
     },
     "execution_count": 30,
     "metadata": {},
     "output_type": "execute_result"
    }
   ],
   "source": [
    "df_edge_avg_speed_mean.head()"
   ],
   "metadata": {
    "collapsed": false,
    "pycharm": {
     "name": "#%%\n"
    }
   }
  },
  {
   "cell_type": "code",
   "execution_count": 31,
   "outputs": [
    {
     "data": {
      "text/plain": "(719, 2)"
     },
     "execution_count": 31,
     "metadata": {},
     "output_type": "execute_result"
    }
   ],
   "source": [
    "df_edge_avg_speed_mean.shape"
   ],
   "metadata": {
    "collapsed": false,
    "pycharm": {
     "name": "#%%\n"
    }
   }
  },
  {
   "cell_type": "code",
   "execution_count": null,
   "outputs": [],
   "source": [
    "df_edge_speed_dict = {}\n",
    "\n",
    "for index, row in df_edge_avg_speed.iterrows():\n",
    "    k = f\"{row['movement_id']}\"\n",
    "    if not k in df_edge_avg_speed:\n",
    "        df_edge_avg_speed[f\"{row['osm_way_id']}\"] = []\n",
    "    else:\n",
    "        df_edge_avg_speed[f\"{row['osm_way_id']}\"].append(row[\"speed_mph_mean\"])"
   ],
   "metadata": {
    "collapsed": false,
    "pycharm": {
     "name": "#%%\n"
    }
   }
  }
 ],
 "metadata": {
  "kernelspec": {
   "display_name": "Python 3",
   "language": "python",
   "name": "python3"
  },
  "language_info": {
   "codemirror_mode": {
    "name": "ipython",
    "version": 2
   },
   "file_extension": ".py",
   "mimetype": "text/x-python",
   "name": "python",
   "nbconvert_exporter": "python",
   "pygments_lexer": "ipython2",
   "version": "2.7.6"
  }
 },
 "nbformat": 4,
 "nbformat_minor": 0
}