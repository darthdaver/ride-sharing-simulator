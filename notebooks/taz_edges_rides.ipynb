{
 "cells": [
  {
   "cell_type": "code",
   "execution_count": null,
   "outputs": [],
   "source": [
    "!pip install pandas"
   ],
   "metadata": {
    "collapsed": false,
    "pycharm": {
     "name": "#%%\n"
    }
   }
  },
  {
   "cell_type": "code",
   "execution_count": 1,
   "outputs": [],
   "source": [
    "import pandas as pd"
   ],
   "metadata": {
    "collapsed": false,
    "pycharm": {
     "name": "#%%\n"
    }
   }
  },
  {
   "cell_type": "code",
   "execution_count": 23,
   "outputs": [],
   "source": [
    "df_mov_taz_uber = pd.read_csv(\"../data/mov_taz_ids_sf_n_o_minimal.csv\")"
   ],
   "metadata": {
    "collapsed": false,
    "pycharm": {
     "name": "#%%\n"
    }
   }
  },
  {
   "cell_type": "code",
   "execution_count": 24,
   "outputs": [],
   "source": [
    "df_taz_edge_sf = pd.read_csv(\"../data/TAZ_edge.csv\")\n",
    "df_taz_edge_sf.taz_id = df_taz_edge_sf.taz_id.astype(str)\n",
    "df_taz_edge_sf.edge_id = df_taz_edge_sf.edge_id.astype(str)"
   ],
   "metadata": {
    "collapsed": false,
    "pycharm": {
     "name": "#%%\n"
    }
   }
  },
  {
   "cell_type": "code",
   "execution_count": 25,
   "outputs": [
    {
     "data": {
      "text/plain": "  taz_id       edge_id\n0    237    -120257662\n1    237    -120257665\n2    237    -133856290\n3    237    -133856291\n4    237  -215968721#1",
      "text/html": "<div>\n<style scoped>\n    .dataframe tbody tr th:only-of-type {\n        vertical-align: middle;\n    }\n\n    .dataframe tbody tr th {\n        vertical-align: top;\n    }\n\n    .dataframe thead th {\n        text-align: right;\n    }\n</style>\n<table border=\"1\" class=\"dataframe\">\n  <thead>\n    <tr style=\"text-align: right;\">\n      <th></th>\n      <th>taz_id</th>\n      <th>edge_id</th>\n    </tr>\n  </thead>\n  <tbody>\n    <tr>\n      <th>0</th>\n      <td>237</td>\n      <td>-120257662</td>\n    </tr>\n    <tr>\n      <th>1</th>\n      <td>237</td>\n      <td>-120257665</td>\n    </tr>\n    <tr>\n      <th>2</th>\n      <td>237</td>\n      <td>-133856290</td>\n    </tr>\n    <tr>\n      <th>3</th>\n      <td>237</td>\n      <td>-133856291</td>\n    </tr>\n    <tr>\n      <th>4</th>\n      <td>237</td>\n      <td>-215968721#1</td>\n    </tr>\n  </tbody>\n</table>\n</div>"
     },
     "execution_count": 25,
     "metadata": {},
     "output_type": "execute_result"
    }
   ],
   "source": [
    "df_taz_edge_sf.head()"
   ],
   "metadata": {
    "collapsed": false,
    "pycharm": {
     "name": "#%%\n"
    }
   }
  },
  {
   "cell_type": "code",
   "execution_count": 26,
   "outputs": [],
   "source": [
    "df_taz_edge_uber = pd.read_csv(\"../data/sf_n_o_minimal_edge.csv\")\n",
    "df_taz_edge_uber.taz_id = df_taz_edge_uber.taz_id.astype(str)\n",
    "df_taz_edge_uber.edge_id = df_taz_edge_uber.edge_id.astype(str)"
   ],
   "metadata": {
    "collapsed": false,
    "pycharm": {
     "name": "#%%\n"
    }
   }
  },
  {
   "cell_type": "code",
   "execution_count": 27,
   "outputs": [],
   "source": [
    "df_trip_taz_sf = pd.read_csv(\"../data/trip_stats_taz_sf.csv\")\n",
    "df_trip_taz_sf.taz_id = df_trip_taz_sf.taz_id.astype(str)"
   ],
   "metadata": {
    "collapsed": false,
    "pycharm": {
     "name": "#%%\n"
    }
   }
  },
  {
   "cell_type": "code",
   "execution_count": 28,
   "outputs": [
    {
     "data": {
      "text/plain": "  taz_id  day_of_week  hour  pickups  dropoffs\n0      1            0     3      0.6       0.4\n1      1            0     4      0.0       0.4\n2      1            0     5      0.6       0.6\n3      1            0     6      0.8       1.0\n4      1            0     7      0.6       0.8",
      "text/html": "<div>\n<style scoped>\n    .dataframe tbody tr th:only-of-type {\n        vertical-align: middle;\n    }\n\n    .dataframe tbody tr th {\n        vertical-align: top;\n    }\n\n    .dataframe thead th {\n        text-align: right;\n    }\n</style>\n<table border=\"1\" class=\"dataframe\">\n  <thead>\n    <tr style=\"text-align: right;\">\n      <th></th>\n      <th>taz_id</th>\n      <th>day_of_week</th>\n      <th>hour</th>\n      <th>pickups</th>\n      <th>dropoffs</th>\n    </tr>\n  </thead>\n  <tbody>\n    <tr>\n      <th>0</th>\n      <td>1</td>\n      <td>0</td>\n      <td>3</td>\n      <td>0.6</td>\n      <td>0.4</td>\n    </tr>\n    <tr>\n      <th>1</th>\n      <td>1</td>\n      <td>0</td>\n      <td>4</td>\n      <td>0.0</td>\n      <td>0.4</td>\n    </tr>\n    <tr>\n      <th>2</th>\n      <td>1</td>\n      <td>0</td>\n      <td>5</td>\n      <td>0.6</td>\n      <td>0.6</td>\n    </tr>\n    <tr>\n      <th>3</th>\n      <td>1</td>\n      <td>0</td>\n      <td>6</td>\n      <td>0.8</td>\n      <td>1.0</td>\n    </tr>\n    <tr>\n      <th>4</th>\n      <td>1</td>\n      <td>0</td>\n      <td>7</td>\n      <td>0.6</td>\n      <td>0.8</td>\n    </tr>\n  </tbody>\n</table>\n</div>"
     },
     "execution_count": 28,
     "metadata": {},
     "output_type": "execute_result"
    }
   ],
   "source": [
    "df_trip_taz_sf.head()"
   ],
   "metadata": {
    "collapsed": false,
    "pycharm": {
     "name": "#%%\n"
    }
   }
  },
  {
   "cell_type": "code",
   "execution_count": 29,
   "outputs": [],
   "source": [
    "df_mov_edge_uber = pd.merge(df_mov_taz_uber, df_taz_edge_uber, how ='inner', on =[\"taz_id\"])[[\"movement_id\",\"edge_id\"]]\n",
    "df_mov_edge_uber.edge_id = df_mov_edge_uber.edge_id.astype(str)"
   ],
   "metadata": {
    "collapsed": false,
    "pycharm": {
     "name": "#%%\n"
    }
   }
  },
  {
   "cell_type": "code",
   "execution_count": 30,
   "outputs": [],
   "source": [
    "df_trip_taz_mean_gb_hour = df_trip_taz_sf.groupby([\"taz_id\",\"hour\"]).mean().reset_index()[[\"taz_id\",\"hour\",\"pickups\",\"dropoffs\"]]"
   ],
   "metadata": {
    "collapsed": false,
    "pycharm": {
     "name": "#%%\n"
    }
   }
  },
  {
   "cell_type": "code",
   "execution_count": 31,
   "outputs": [
    {
     "data": {
      "text/plain": "  taz_id  hour   pickups  dropoffs\n0      1     3  0.121429  0.235714\n1      1     4  0.142857  0.157143\n2      1     5  0.521429  0.678571\n3      1     6  0.600000  0.621429\n4      1     7  0.635714  0.678571",
      "text/html": "<div>\n<style scoped>\n    .dataframe tbody tr th:only-of-type {\n        vertical-align: middle;\n    }\n\n    .dataframe tbody tr th {\n        vertical-align: top;\n    }\n\n    .dataframe thead th {\n        text-align: right;\n    }\n</style>\n<table border=\"1\" class=\"dataframe\">\n  <thead>\n    <tr style=\"text-align: right;\">\n      <th></th>\n      <th>taz_id</th>\n      <th>hour</th>\n      <th>pickups</th>\n      <th>dropoffs</th>\n    </tr>\n  </thead>\n  <tbody>\n    <tr>\n      <th>0</th>\n      <td>1</td>\n      <td>3</td>\n      <td>0.121429</td>\n      <td>0.235714</td>\n    </tr>\n    <tr>\n      <th>1</th>\n      <td>1</td>\n      <td>4</td>\n      <td>0.142857</td>\n      <td>0.157143</td>\n    </tr>\n    <tr>\n      <th>2</th>\n      <td>1</td>\n      <td>5</td>\n      <td>0.521429</td>\n      <td>0.678571</td>\n    </tr>\n    <tr>\n      <th>3</th>\n      <td>1</td>\n      <td>6</td>\n      <td>0.600000</td>\n      <td>0.621429</td>\n    </tr>\n    <tr>\n      <th>4</th>\n      <td>1</td>\n      <td>7</td>\n      <td>0.635714</td>\n      <td>0.678571</td>\n    </tr>\n  </tbody>\n</table>\n</div>"
     },
     "execution_count": 31,
     "metadata": {},
     "output_type": "execute_result"
    }
   ],
   "source": [
    "df_trip_taz_mean_gb_hour.head()"
   ],
   "metadata": {
    "collapsed": false,
    "pycharm": {
     "name": "#%%\n"
    }
   }
  },
  {
   "cell_type": "code",
   "execution_count": 32,
   "outputs": [],
   "source": [
    "df_taz_edge_pickups_dropoffs_sf = pd.merge(df_trip_taz_mean_gb_hour, df_taz_edge_sf, how ='inner', on =[\"taz_id\"])"
   ],
   "metadata": {
    "collapsed": false,
    "pycharm": {
     "name": "#%%\n"
    }
   }
  },
  {
   "cell_type": "code",
   "execution_count": 33,
   "outputs": [
    {
     "data": {
      "text/plain": "  taz_id  hour   pickups  dropoffs       edge_id\n0    237     3  1.614286      1.55    -120257662\n1    237     3  1.614286      1.55    -120257665\n2    237     3  1.614286      1.55    -133856290\n3    237     3  1.614286      1.55    -133856291\n4    237     3  1.614286      1.55  -215968721#1",
      "text/html": "<div>\n<style scoped>\n    .dataframe tbody tr th:only-of-type {\n        vertical-align: middle;\n    }\n\n    .dataframe tbody tr th {\n        vertical-align: top;\n    }\n\n    .dataframe thead th {\n        text-align: right;\n    }\n</style>\n<table border=\"1\" class=\"dataframe\">\n  <thead>\n    <tr style=\"text-align: right;\">\n      <th></th>\n      <th>taz_id</th>\n      <th>hour</th>\n      <th>pickups</th>\n      <th>dropoffs</th>\n      <th>edge_id</th>\n    </tr>\n  </thead>\n  <tbody>\n    <tr>\n      <th>0</th>\n      <td>237</td>\n      <td>3</td>\n      <td>1.614286</td>\n      <td>1.55</td>\n      <td>-120257662</td>\n    </tr>\n    <tr>\n      <th>1</th>\n      <td>237</td>\n      <td>3</td>\n      <td>1.614286</td>\n      <td>1.55</td>\n      <td>-120257665</td>\n    </tr>\n    <tr>\n      <th>2</th>\n      <td>237</td>\n      <td>3</td>\n      <td>1.614286</td>\n      <td>1.55</td>\n      <td>-133856290</td>\n    </tr>\n    <tr>\n      <th>3</th>\n      <td>237</td>\n      <td>3</td>\n      <td>1.614286</td>\n      <td>1.55</td>\n      <td>-133856291</td>\n    </tr>\n    <tr>\n      <th>4</th>\n      <td>237</td>\n      <td>3</td>\n      <td>1.614286</td>\n      <td>1.55</td>\n      <td>-215968721#1</td>\n    </tr>\n  </tbody>\n</table>\n</div>"
     },
     "execution_count": 33,
     "metadata": {},
     "output_type": "execute_result"
    }
   ],
   "source": [
    "df_taz_edge_pickups_dropoffs_sf.head()"
   ],
   "metadata": {
    "collapsed": false,
    "pycharm": {
     "name": "#%%\n"
    }
   }
  },
  {
   "cell_type": "code",
   "execution_count": 34,
   "outputs": [
    {
     "data": {
      "text/plain": "(264576, 5)"
     },
     "execution_count": 34,
     "metadata": {},
     "output_type": "execute_result"
    }
   ],
   "source": [
    "df_taz_edge_pickups_dropoffs_sf.shape"
   ],
   "metadata": {
    "collapsed": false,
    "pycharm": {
     "name": "#%%\n"
    }
   }
  },
  {
   "cell_type": "code",
   "execution_count": 35,
   "outputs": [],
   "source": [
    "df_edge_mov_pick_drop_uber = pd.merge(df_mov_edge_uber, df_taz_edge_pickups_dropoffs_sf, how=\"inner\", on=[\"edge_id\"])"
   ],
   "metadata": {
    "collapsed": false,
    "pycharm": {
     "name": "#%%\n"
    }
   }
  },
  {
   "cell_type": "code",
   "execution_count": 36,
   "outputs": [
    {
     "data": {
      "text/plain": "   movement_id       edge_id taz_id  hour    pickups   dropoffs\n0         3394  -143666206#0    852     3   5.385714   4.907143\n1         3394  -143666206#0    852     4   7.928571   5.692857\n2         3394  -143666206#0    852     5  12.500000   6.728571\n3         3394  -143666206#0    852     6  18.942857  12.371429\n4         3394  -143666206#0    852     7  30.900000  21.428571",
      "text/html": "<div>\n<style scoped>\n    .dataframe tbody tr th:only-of-type {\n        vertical-align: middle;\n    }\n\n    .dataframe tbody tr th {\n        vertical-align: top;\n    }\n\n    .dataframe thead th {\n        text-align: right;\n    }\n</style>\n<table border=\"1\" class=\"dataframe\">\n  <thead>\n    <tr style=\"text-align: right;\">\n      <th></th>\n      <th>movement_id</th>\n      <th>edge_id</th>\n      <th>taz_id</th>\n      <th>hour</th>\n      <th>pickups</th>\n      <th>dropoffs</th>\n    </tr>\n  </thead>\n  <tbody>\n    <tr>\n      <th>0</th>\n      <td>3394</td>\n      <td>-143666206#0</td>\n      <td>852</td>\n      <td>3</td>\n      <td>5.385714</td>\n      <td>4.907143</td>\n    </tr>\n    <tr>\n      <th>1</th>\n      <td>3394</td>\n      <td>-143666206#0</td>\n      <td>852</td>\n      <td>4</td>\n      <td>7.928571</td>\n      <td>5.692857</td>\n    </tr>\n    <tr>\n      <th>2</th>\n      <td>3394</td>\n      <td>-143666206#0</td>\n      <td>852</td>\n      <td>5</td>\n      <td>12.500000</td>\n      <td>6.728571</td>\n    </tr>\n    <tr>\n      <th>3</th>\n      <td>3394</td>\n      <td>-143666206#0</td>\n      <td>852</td>\n      <td>6</td>\n      <td>18.942857</td>\n      <td>12.371429</td>\n    </tr>\n    <tr>\n      <th>4</th>\n      <td>3394</td>\n      <td>-143666206#0</td>\n      <td>852</td>\n      <td>7</td>\n      <td>30.900000</td>\n      <td>21.428571</td>\n    </tr>\n  </tbody>\n</table>\n</div>"
     },
     "execution_count": 36,
     "metadata": {},
     "output_type": "execute_result"
    }
   ],
   "source": [
    "df_edge_mov_pick_drop_uber.head()"
   ],
   "metadata": {
    "collapsed": false,
    "pycharm": {
     "name": "#%%\n"
    }
   }
  },
  {
   "cell_type": "code",
   "execution_count": 37,
   "outputs": [],
   "source": [
    "df_mov_mean_pick_drop = df_edge_mov_pick_drop_uber.groupby([\"movement_id\",\"hour\"]).mean().reset_index()[[\"movement_id\",\"hour\",\"pickups\",\"dropoffs\"]]\n",
    "df_mov_mean_pick_drop.columns = [\"movement_id\",\"hour\",\"pickups_mean\",\"dropoffs_mean\"]"
   ],
   "metadata": {
    "collapsed": false,
    "pycharm": {
     "name": "#%%\n"
    }
   }
  },
  {
   "cell_type": "code",
   "execution_count": 38,
   "outputs": [],
   "source": [
    "df_mov_std_pick_drop = df_edge_mov_pick_drop_uber.groupby([\"movement_id\",\"hour\"]).std().reset_index()[[\"movement_id\",\"hour\",\"pickups\",\"dropoffs\"]]\n",
    "df_mov_std_pick_drop.columns = [\"movement_id\",\"hour\",\"pickups_std\",\"dropoffs_std\"]"
   ],
   "metadata": {
    "collapsed": false,
    "pycharm": {
     "name": "#%%\n"
    }
   }
  },
  {
   "cell_type": "code",
   "execution_count": 39,
   "outputs": [
    {
     "data": {
      "text/plain": "   movement_id  hour  pickups_mean  dropoffs_mean\n0         3394     3      4.660534       4.234055\n1         3394     4      6.785281       4.896392\n2         3394     5     11.012626       5.970491\n3         3394     6     16.979798      10.966306\n4         3394     7     28.943795      19.915152",
      "text/html": "<div>\n<style scoped>\n    .dataframe tbody tr th:only-of-type {\n        vertical-align: middle;\n    }\n\n    .dataframe tbody tr th {\n        vertical-align: top;\n    }\n\n    .dataframe thead th {\n        text-align: right;\n    }\n</style>\n<table border=\"1\" class=\"dataframe\">\n  <thead>\n    <tr style=\"text-align: right;\">\n      <th></th>\n      <th>movement_id</th>\n      <th>hour</th>\n      <th>pickups_mean</th>\n      <th>dropoffs_mean</th>\n    </tr>\n  </thead>\n  <tbody>\n    <tr>\n      <th>0</th>\n      <td>3394</td>\n      <td>3</td>\n      <td>4.660534</td>\n      <td>4.234055</td>\n    </tr>\n    <tr>\n      <th>1</th>\n      <td>3394</td>\n      <td>4</td>\n      <td>6.785281</td>\n      <td>4.896392</td>\n    </tr>\n    <tr>\n      <th>2</th>\n      <td>3394</td>\n      <td>5</td>\n      <td>11.012626</td>\n      <td>5.970491</td>\n    </tr>\n    <tr>\n      <th>3</th>\n      <td>3394</td>\n      <td>6</td>\n      <td>16.979798</td>\n      <td>10.966306</td>\n    </tr>\n    <tr>\n      <th>4</th>\n      <td>3394</td>\n      <td>7</td>\n      <td>28.943795</td>\n      <td>19.915152</td>\n    </tr>\n  </tbody>\n</table>\n</div>"
     },
     "execution_count": 39,
     "metadata": {},
     "output_type": "execute_result"
    }
   ],
   "source": [
    "df_mov_mean_pick_drop.head()"
   ],
   "metadata": {
    "collapsed": false,
    "pycharm": {
     "name": "#%%\n"
    }
   }
  },
  {
   "cell_type": "code",
   "execution_count": 40,
   "outputs": [
    {
     "data": {
      "text/plain": "   movement_id  hour  pickups_std  dropoffs_std\n0         3394     3     1.495611      1.388176\n1         3394     4     2.357921      1.642628\n2         3394     5     3.067559      1.563465\n3         3394     6     4.048612      2.897924\n4         3394     7     4.034476      3.121276",
      "text/html": "<div>\n<style scoped>\n    .dataframe tbody tr th:only-of-type {\n        vertical-align: middle;\n    }\n\n    .dataframe tbody tr th {\n        vertical-align: top;\n    }\n\n    .dataframe thead th {\n        text-align: right;\n    }\n</style>\n<table border=\"1\" class=\"dataframe\">\n  <thead>\n    <tr style=\"text-align: right;\">\n      <th></th>\n      <th>movement_id</th>\n      <th>hour</th>\n      <th>pickups_std</th>\n      <th>dropoffs_std</th>\n    </tr>\n  </thead>\n  <tbody>\n    <tr>\n      <th>0</th>\n      <td>3394</td>\n      <td>3</td>\n      <td>1.495611</td>\n      <td>1.388176</td>\n    </tr>\n    <tr>\n      <th>1</th>\n      <td>3394</td>\n      <td>4</td>\n      <td>2.357921</td>\n      <td>1.642628</td>\n    </tr>\n    <tr>\n      <th>2</th>\n      <td>3394</td>\n      <td>5</td>\n      <td>3.067559</td>\n      <td>1.563465</td>\n    </tr>\n    <tr>\n      <th>3</th>\n      <td>3394</td>\n      <td>6</td>\n      <td>4.048612</td>\n      <td>2.897924</td>\n    </tr>\n    <tr>\n      <th>4</th>\n      <td>3394</td>\n      <td>7</td>\n      <td>4.034476</td>\n      <td>3.121276</td>\n    </tr>\n  </tbody>\n</table>\n</div>"
     },
     "execution_count": 40,
     "metadata": {},
     "output_type": "execute_result"
    }
   ],
   "source": [
    "df_mov_std_pick_drop.head()"
   ],
   "metadata": {
    "collapsed": false,
    "pycharm": {
     "name": "#%%\n"
    }
   }
  },
  {
   "cell_type": "code",
   "execution_count": 41,
   "outputs": [],
   "source": [
    "df_mov_mean_std_pick_drop = pd.merge(df_mov_mean_pick_drop, df_mov_std_pick_drop, how=\"inner\", on=[\"movement_id\",\"hour\"]).reset_index()"
   ],
   "metadata": {
    "collapsed": false,
    "pycharm": {
     "name": "#%%\n"
    }
   }
  },
  {
   "cell_type": "code",
   "execution_count": 42,
   "outputs": [
    {
     "data": {
      "text/plain": "   index  movement_id  hour  pickups_mean  dropoffs_mean  pickups_std  \\\n0      0         3394     3      4.660534       4.234055     1.495611   \n1      1         3394     4      6.785281       4.896392     2.357921   \n2      2         3394     5     11.012626       5.970491     3.067559   \n3      3         3394     6     16.979798      10.966306     4.048612   \n4      4         3394     7     28.943795      19.915152     4.034476   \n\n   dropoffs_std  \n0      1.388176  \n1      1.642628  \n2      1.563465  \n3      2.897924  \n4      3.121276  ",
      "text/html": "<div>\n<style scoped>\n    .dataframe tbody tr th:only-of-type {\n        vertical-align: middle;\n    }\n\n    .dataframe tbody tr th {\n        vertical-align: top;\n    }\n\n    .dataframe thead th {\n        text-align: right;\n    }\n</style>\n<table border=\"1\" class=\"dataframe\">\n  <thead>\n    <tr style=\"text-align: right;\">\n      <th></th>\n      <th>index</th>\n      <th>movement_id</th>\n      <th>hour</th>\n      <th>pickups_mean</th>\n      <th>dropoffs_mean</th>\n      <th>pickups_std</th>\n      <th>dropoffs_std</th>\n    </tr>\n  </thead>\n  <tbody>\n    <tr>\n      <th>0</th>\n      <td>0</td>\n      <td>3394</td>\n      <td>3</td>\n      <td>4.660534</td>\n      <td>4.234055</td>\n      <td>1.495611</td>\n      <td>1.388176</td>\n    </tr>\n    <tr>\n      <th>1</th>\n      <td>1</td>\n      <td>3394</td>\n      <td>4</td>\n      <td>6.785281</td>\n      <td>4.896392</td>\n      <td>2.357921</td>\n      <td>1.642628</td>\n    </tr>\n    <tr>\n      <th>2</th>\n      <td>2</td>\n      <td>3394</td>\n      <td>5</td>\n      <td>11.012626</td>\n      <td>5.970491</td>\n      <td>3.067559</td>\n      <td>1.563465</td>\n    </tr>\n    <tr>\n      <th>3</th>\n      <td>3</td>\n      <td>3394</td>\n      <td>6</td>\n      <td>16.979798</td>\n      <td>10.966306</td>\n      <td>4.048612</td>\n      <td>2.897924</td>\n    </tr>\n    <tr>\n      <th>4</th>\n      <td>4</td>\n      <td>3394</td>\n      <td>7</td>\n      <td>28.943795</td>\n      <td>19.915152</td>\n      <td>4.034476</td>\n      <td>3.121276</td>\n    </tr>\n  </tbody>\n</table>\n</div>"
     },
     "execution_count": 42,
     "metadata": {},
     "output_type": "execute_result"
    }
   ],
   "source": [
    "df_mov_mean_std_pick_drop.head()"
   ],
   "metadata": {
    "collapsed": false,
    "pycharm": {
     "name": "#%%\n"
    }
   }
  },
  {
   "cell_type": "code",
   "execution_count": 43,
   "outputs": [
    {
     "data": {
      "text/plain": "73.37120535714286"
     },
     "execution_count": 43,
     "metadata": {},
     "output_type": "execute_result"
    }
   ],
   "source": [
    "df_mov_mean_std_pick_drop[\"pickups_mean\"].max()\n"
   ],
   "metadata": {
    "collapsed": false,
    "pycharm": {
     "name": "#%%\n"
    }
   }
  },
  {
   "cell_type": "code",
   "execution_count": 44,
   "outputs": [],
   "source": [
    "df_mov_mean_std_pick_drop_no_hour = df_mov_mean_std_pick_drop.groupby([\"movement_id\"]).mean().reset_index()[[\"movement_id\",\"pickups_mean\",\"dropoffs_mean\",\"pickups_std\",\"dropoffs_std\"]]"
   ],
   "metadata": {
    "collapsed": false,
    "pycharm": {
     "name": "#%%\n"
    }
   }
  },
  {
   "cell_type": "code",
   "execution_count": 45,
   "outputs": [
    {
     "data": {
      "text/plain": "   movement_id  pickups_mean  dropoffs_mean  pickups_std  dropoffs_std\n0         3394     43.009629      33.976677     7.816031      6.776548\n1         3411      9.408509       8.682742     4.734483      4.855788\n2         3413     23.653786      18.884697    17.540844     13.834464\n3         3414     17.068683      13.781300    13.784551     10.902070\n4         3423      8.016456       7.820926     5.837589      5.015317",
      "text/html": "<div>\n<style scoped>\n    .dataframe tbody tr th:only-of-type {\n        vertical-align: middle;\n    }\n\n    .dataframe tbody tr th {\n        vertical-align: top;\n    }\n\n    .dataframe thead th {\n        text-align: right;\n    }\n</style>\n<table border=\"1\" class=\"dataframe\">\n  <thead>\n    <tr style=\"text-align: right;\">\n      <th></th>\n      <th>movement_id</th>\n      <th>pickups_mean</th>\n      <th>dropoffs_mean</th>\n      <th>pickups_std</th>\n      <th>dropoffs_std</th>\n    </tr>\n  </thead>\n  <tbody>\n    <tr>\n      <th>0</th>\n      <td>3394</td>\n      <td>43.009629</td>\n      <td>33.976677</td>\n      <td>7.816031</td>\n      <td>6.776548</td>\n    </tr>\n    <tr>\n      <th>1</th>\n      <td>3411</td>\n      <td>9.408509</td>\n      <td>8.682742</td>\n      <td>4.734483</td>\n      <td>4.855788</td>\n    </tr>\n    <tr>\n      <th>2</th>\n      <td>3413</td>\n      <td>23.653786</td>\n      <td>18.884697</td>\n      <td>17.540844</td>\n      <td>13.834464</td>\n    </tr>\n    <tr>\n      <th>3</th>\n      <td>3414</td>\n      <td>17.068683</td>\n      <td>13.781300</td>\n      <td>13.784551</td>\n      <td>10.902070</td>\n    </tr>\n    <tr>\n      <th>4</th>\n      <td>3423</td>\n      <td>8.016456</td>\n      <td>7.820926</td>\n      <td>5.837589</td>\n      <td>5.015317</td>\n    </tr>\n  </tbody>\n</table>\n</div>"
     },
     "execution_count": 45,
     "metadata": {},
     "output_type": "execute_result"
    }
   ],
   "source": [
    "df_mov_mean_std_pick_drop_no_hour.head()"
   ],
   "metadata": {
    "collapsed": false,
    "pycharm": {
     "name": "#%%\n"
    }
   }
  },
  {
   "cell_type": "code",
   "execution_count": 46,
   "outputs": [
    {
     "data": {
      "text/plain": "(128, 5)"
     },
     "execution_count": 46,
     "metadata": {},
     "output_type": "execute_result"
    }
   ],
   "source": [
    "df_mov_mean_std_pick_drop_no_hour.shape"
   ],
   "metadata": {
    "collapsed": false,
    "pycharm": {
     "name": "#%%\n"
    }
   }
  },
  {
   "cell_type": "code",
   "execution_count": 47,
   "outputs": [],
   "source": [
    "df_mov_mean_std_pick_drop_no_hour.to_csv(\"../data/df_mov_mean_std_pick_drop_no_hour_sf_n_o_minimal.csv\", index=False)"
   ],
   "metadata": {
    "collapsed": false,
    "pycharm": {
     "name": "#%%\n"
    }
   }
  },
  {
   "cell_type": "code",
   "execution_count": 48,
   "outputs": [],
   "source": [
    "df_mov_mean_std_pick_drop_no_hour.to_json(\"../data/df_mov_mean_std_pick_drop_no_hour_sf_n_o_minimal.json\")"
   ],
   "metadata": {
    "collapsed": false,
    "pycharm": {
     "name": "#%%\n"
    }
   }
  },
  {
   "cell_type": "code",
   "execution_count": null,
   "outputs": [],
   "source": [],
   "metadata": {
    "collapsed": false,
    "pycharm": {
     "name": "#%%\n"
    }
   }
  }
 ],
 "metadata": {
  "kernelspec": {
   "display_name": "Python 3",
   "language": "python",
   "name": "python3"
  },
  "language_info": {
   "codemirror_mode": {
    "name": "ipython",
    "version": 2
   },
   "file_extension": ".py",
   "mimetype": "text/x-python",
   "name": "python",
   "nbconvert_exporter": "python",
   "pygments_lexer": "ipython2",
   "version": "2.7.6"
  }
 },
 "nbformat": 4,
 "nbformat_minor": 0
}