{
 "cells": [
  {
   "cell_type": "code",
   "execution_count": 577,
   "metadata": {
    "collapsed": true
   },
   "outputs": [],
   "source": [
    "import pandas as pd"
   ]
  },
  {
   "cell_type": "code",
   "execution_count": 578,
   "outputs": [],
   "source": [
    "df_global = pd.read_csv(\"/Users/davidemolinelli/Downloads/simulations/4/flash_mob/global-indicators.csv\")[[\"timestamp\",\"rides_canceled\",\"rides_not_accomplished\",\"rides_completed\",\"rides_accepted\",\"total_rides\"]]\n",
    "df_specific = pd.read_csv(\"/Users/davidemolinelli/Downloads/simulations/4/flash_mob/specific-indicators.csv\")[[\"timestamp\",\"expected_total_time\",\"total_time\",\"expected_ride_price\",\"ride_price\"]]"
   ],
   "metadata": {
    "collapsed": false,
    "pycharm": {
     "name": "#%%\n"
    }
   }
  },
  {
   "cell_type": "code",
   "execution_count": 579,
   "outputs": [
    {
     "data": {
      "text/plain": "   timestamp  rides_canceled  rides_not_accomplished  rides_completed  \\\n0        1.0               0                       0                0   \n1        2.0               0                       0                0   \n2        3.0               0                       0                0   \n3        4.0               0                       0                0   \n4        5.0               0                       0                0   \n\n   rides_accepted  total_rides  \n0               0            0  \n1               0            2  \n2               0            2  \n3               0            2  \n4               0            2  ",
      "text/html": "<div>\n<style scoped>\n    .dataframe tbody tr th:only-of-type {\n        vertical-align: middle;\n    }\n\n    .dataframe tbody tr th {\n        vertical-align: top;\n    }\n\n    .dataframe thead th {\n        text-align: right;\n    }\n</style>\n<table border=\"1\" class=\"dataframe\">\n  <thead>\n    <tr style=\"text-align: right;\">\n      <th></th>\n      <th>timestamp</th>\n      <th>rides_canceled</th>\n      <th>rides_not_accomplished</th>\n      <th>rides_completed</th>\n      <th>rides_accepted</th>\n      <th>total_rides</th>\n    </tr>\n  </thead>\n  <tbody>\n    <tr>\n      <th>0</th>\n      <td>1.0</td>\n      <td>0</td>\n      <td>0</td>\n      <td>0</td>\n      <td>0</td>\n      <td>0</td>\n    </tr>\n    <tr>\n      <th>1</th>\n      <td>2.0</td>\n      <td>0</td>\n      <td>0</td>\n      <td>0</td>\n      <td>0</td>\n      <td>2</td>\n    </tr>\n    <tr>\n      <th>2</th>\n      <td>3.0</td>\n      <td>0</td>\n      <td>0</td>\n      <td>0</td>\n      <td>0</td>\n      <td>2</td>\n    </tr>\n    <tr>\n      <th>3</th>\n      <td>4.0</td>\n      <td>0</td>\n      <td>0</td>\n      <td>0</td>\n      <td>0</td>\n      <td>2</td>\n    </tr>\n    <tr>\n      <th>4</th>\n      <td>5.0</td>\n      <td>0</td>\n      <td>0</td>\n      <td>0</td>\n      <td>0</td>\n      <td>2</td>\n    </tr>\n  </tbody>\n</table>\n</div>"
     },
     "execution_count": 579,
     "metadata": {},
     "output_type": "execute_result"
    }
   ],
   "source": [
    "df_global.head()"
   ],
   "metadata": {
    "collapsed": false,
    "pycharm": {
     "name": "#%%\n"
    }
   }
  },
  {
   "cell_type": "code",
   "execution_count": 580,
   "outputs": [
    {
     "data": {
      "text/plain": "     timestamp  expected_total_time  total_time  expected_ride_price  \\\n113     1900.0               247.90       728.0                21.52   \n114     1906.0               210.11       634.0                32.97   \n115     1953.0               200.77       254.0                26.39   \n116     2004.0               255.09       461.0                31.51   \n\n     ride_price  \n113       68.88  \n114       85.62  \n115        7.19  \n116       51.32  ",
      "text/html": "<div>\n<style scoped>\n    .dataframe tbody tr th:only-of-type {\n        vertical-align: middle;\n    }\n\n    .dataframe tbody tr th {\n        vertical-align: top;\n    }\n\n    .dataframe thead th {\n        text-align: right;\n    }\n</style>\n<table border=\"1\" class=\"dataframe\">\n  <thead>\n    <tr style=\"text-align: right;\">\n      <th></th>\n      <th>timestamp</th>\n      <th>expected_total_time</th>\n      <th>total_time</th>\n      <th>expected_ride_price</th>\n      <th>ride_price</th>\n    </tr>\n  </thead>\n  <tbody>\n    <tr>\n      <th>113</th>\n      <td>1900.0</td>\n      <td>247.90</td>\n      <td>728.0</td>\n      <td>21.52</td>\n      <td>68.88</td>\n    </tr>\n    <tr>\n      <th>114</th>\n      <td>1906.0</td>\n      <td>210.11</td>\n      <td>634.0</td>\n      <td>32.97</td>\n      <td>85.62</td>\n    </tr>\n    <tr>\n      <th>115</th>\n      <td>1953.0</td>\n      <td>200.77</td>\n      <td>254.0</td>\n      <td>26.39</td>\n      <td>7.19</td>\n    </tr>\n    <tr>\n      <th>116</th>\n      <td>2004.0</td>\n      <td>255.09</td>\n      <td>461.0</td>\n      <td>31.51</td>\n      <td>51.32</td>\n    </tr>\n  </tbody>\n</table>\n</div>"
     },
     "execution_count": 580,
     "metadata": {},
     "output_type": "execute_result"
    }
   ],
   "source": [
    "df_specific[113:117]"
   ],
   "metadata": {
    "collapsed": false,
    "pycharm": {
     "name": "#%%\n"
    }
   }
  },
  {
   "cell_type": "code",
   "execution_count": 581,
   "outputs": [],
   "source": [
    "df_global['unserved_requests_100'] = 0\n",
    "df_global['unserved_requests_200'] = 0\n",
    "df_global['unserved_requests_500'] = 0\n",
    "#df_global['unserved_requests_100_min'] = 0\n",
    "#df_global['unserved_requests_200_min'] = 0\n",
    "#df_global['unserved_requests_500_min'] = 0\n",
    "#df_global['unserved_requests_100_max'] = 0\n",
    "#df_global['unserved_requests_200_max'] = 0\n",
    "#df_global['unserved_requests_500_max'] = 0\n",
    "df_global['overhead_100'] = 0\n",
    "df_global['overhead_200'] = 0\n",
    "df_global['overhead_500'] = 0\n",
    "#df_global['overhead_100_min'] = 0\n",
    "#df_global['overhead_200_min'] = 0\n",
    "#df_global['overhead_500_min'] = 0\n",
    "#df_global['overhead_100_max'] = 0\n",
    "#df_global['overhead_200_max'] = 0\n",
    "#df_global['overhead_500_max'] = 0\n",
    "df_global['price_fluctuation_100'] = 0\n",
    "df_global['price_fluctuation_200'] = 0\n",
    "df_global['price_fluctuation_500'] = 0"
   ],
   "metadata": {
    "collapsed": false,
    "pycharm": {
     "name": "#%%\n"
    }
   }
  },
  {
   "cell_type": "code",
   "execution_count": 582,
   "outputs": [],
   "source": [
    "for i in range(100,5000):\n",
    "    df_end_window = df_global.iloc[i-1,:]\n",
    "    df_start_window = df_global.iloc[i-100,:]\n",
    "    df_window_num = (df_end_window[\"rides_canceled\"] - df_start_window[\"rides_canceled\"]) + (df_end_window[\"rides_not_accomplished\"] - df_start_window[\"rides_not_accomplished\"])\n",
    "    df_window_den = (df_end_window[\"total_rides\"] + df_end_window[\"rides_accepted\"]) - (df_start_window[\"total_rides\"] + df_start_window[\"rides_accepted\"])\n",
    "    df_global.at[i-1,\"unserved_requests_100\"] = df_window_num / df_window_den if not df_window_den == 0 else 0\n",
    "\n",
    "for i in range(200,5000):\n",
    "    df_end_window = df_global.iloc[i-1,:]\n",
    "    df_start_window = df_global.iloc[i-200,:]\n",
    "    df_window_num = (df_end_window[\"rides_canceled\"] - df_start_window[\"rides_canceled\"]) + (df_end_window[\"rides_not_accomplished\"] - df_start_window[\"rides_not_accomplished\"])\n",
    "    df_window_den = (df_end_window[\"total_rides\"] + df_end_window[\"rides_accepted\"]) - (df_start_window[\"total_rides\"] + df_start_window[\"rides_accepted\"])\n",
    "    df_global.at[i-1,\"unserved_requests_200\"] = df_window_num / df_window_den if not df_window_den == 0 else 0\n",
    "\n",
    "for i in range(500,5000):\n",
    "    df_end_window = df_global.iloc[i-1,:]\n",
    "    df_start_window = df_global.iloc[i-500,:]\n",
    "    df_window_num = (df_end_window[\"rides_canceled\"] - df_start_window[\"rides_canceled\"]) + (df_end_window[\"rides_not_accomplished\"] - df_start_window[\"rides_not_accomplished\"])\n",
    "    df_window_den = (df_end_window[\"total_rides\"] + df_end_window[\"rides_accepted\"]) - (df_start_window[\"total_rides\"] + df_start_window[\"rides_accepted\"])\n",
    "    if df_window_num < 0:\n",
    "        print(i)\n",
    "        print(df_window_num)\n",
    "    if df_window_den < 0:\n",
    "        print(i)\n",
    "        print(df_end_window)\n",
    "    df_global.at[i-1,\"unserved_requests_500\"] = df_window_num / df_window_den if not df_window_den == 0 else 0"
   ],
   "metadata": {
    "collapsed": false,
    "pycharm": {
     "name": "#%%\n"
    }
   }
  },
  {
   "cell_type": "code",
   "execution_count": 583,
   "outputs": [
    {
     "data": {
      "text/plain": "   timestamp  expected_total_time  total_time  expected_ride_price  \\\n0      332.0               105.12       293.0                16.27   \n1      458.0               138.51       365.0                13.93   \n2      460.0               122.55       441.0                14.17   \n3      463.0               232.57       438.0                23.15   \n4      470.0               217.40       414.0                27.31   \n\n   ride_price  overhead  price_fluctuation  \n0       40.09  1.787291           1.464044  \n1       25.60  1.635189           0.837760  \n2       30.67  2.598531           1.164432  \n3       44.47  0.883304           0.920950  \n4       48.09  0.904324           0.760893  ",
      "text/html": "<div>\n<style scoped>\n    .dataframe tbody tr th:only-of-type {\n        vertical-align: middle;\n    }\n\n    .dataframe tbody tr th {\n        vertical-align: top;\n    }\n\n    .dataframe thead th {\n        text-align: right;\n    }\n</style>\n<table border=\"1\" class=\"dataframe\">\n  <thead>\n    <tr style=\"text-align: right;\">\n      <th></th>\n      <th>timestamp</th>\n      <th>expected_total_time</th>\n      <th>total_time</th>\n      <th>expected_ride_price</th>\n      <th>ride_price</th>\n      <th>overhead</th>\n      <th>price_fluctuation</th>\n    </tr>\n  </thead>\n  <tbody>\n    <tr>\n      <th>0</th>\n      <td>332.0</td>\n      <td>105.12</td>\n      <td>293.0</td>\n      <td>16.27</td>\n      <td>40.09</td>\n      <td>1.787291</td>\n      <td>1.464044</td>\n    </tr>\n    <tr>\n      <th>1</th>\n      <td>458.0</td>\n      <td>138.51</td>\n      <td>365.0</td>\n      <td>13.93</td>\n      <td>25.60</td>\n      <td>1.635189</td>\n      <td>0.837760</td>\n    </tr>\n    <tr>\n      <th>2</th>\n      <td>460.0</td>\n      <td>122.55</td>\n      <td>441.0</td>\n      <td>14.17</td>\n      <td>30.67</td>\n      <td>2.598531</td>\n      <td>1.164432</td>\n    </tr>\n    <tr>\n      <th>3</th>\n      <td>463.0</td>\n      <td>232.57</td>\n      <td>438.0</td>\n      <td>23.15</td>\n      <td>44.47</td>\n      <td>0.883304</td>\n      <td>0.920950</td>\n    </tr>\n    <tr>\n      <th>4</th>\n      <td>470.0</td>\n      <td>217.40</td>\n      <td>414.0</td>\n      <td>27.31</td>\n      <td>48.09</td>\n      <td>0.904324</td>\n      <td>0.760893</td>\n    </tr>\n  </tbody>\n</table>\n</div>"
     },
     "execution_count": 583,
     "metadata": {},
     "output_type": "execute_result"
    }
   ],
   "source": [
    "df_specific[\"overhead\"] = df_specific.apply(lambda x: abs(x[\"total_time\"]-x[\"expected_total_time\"])/(x[\"expected_total_time\"]), axis=1)\n",
    "df_specific[\"price_fluctuation\"] =  df_specific.apply(lambda x: abs(x[\"ride_price\"]-x[\"expected_ride_price\"])/(x[\"expected_ride_price\"]), axis=1)\n",
    "df_specific.head()"
   ],
   "metadata": {
    "collapsed": false,
    "pycharm": {
     "name": "#%%\n"
    }
   }
  },
  {
   "cell_type": "code",
   "execution_count": 584,
   "outputs": [],
   "source": [
    "for i in range(100,5000):\n",
    "    df_filtered = df_specific[(float(i-100) <= df_specific[\"timestamp\"]) & (df_specific[\"timestamp\"] <= float(i))].reset_index()\n",
    "    df_global.at[i-1,\"overhead_100\"] = df_filtered[\"overhead\"].mean()\n",
    "    df_global.at[i-1,'price_fluctuation_100'] = df_filtered[\"price_fluctuation\"].mean()\n",
    "for i in range(200,5000):\n",
    "    df_filtered = df_specific[(float(i-200) <= df_specific[\"timestamp\"]) & (df_specific[\"timestamp\"] <= float(i))].reset_index()\n",
    "    df_global.at[i-1,\"overhead_200\"] = df_filtered[\"overhead\"].mean()\n",
    "    df_global.at[i-1,'price_fluctuation_200'] = df_filtered[\"price_fluctuation\"].mean()\n",
    "for i in range(400,5000):\n",
    "    df_filtered = df_specific[(float(i-500) <= df_specific[\"timestamp\"]) & (df_specific[\"timestamp\"] <= float(i))].reset_index()\n",
    "    df_global.at[i-1,\"overhead_500\"] = df_filtered[\"overhead\"].mean()\n",
    "    df_global.at[i-1,'price_fluctuation_500'] = df_filtered[\"price_fluctuation\"].mean()"
   ],
   "metadata": {
    "collapsed": false,
    "pycharm": {
     "name": "#%%\n"
    }
   }
  },
  {
   "cell_type": "code",
   "execution_count": 585,
   "outputs": [],
   "source": [
    "df_global = df_global.fillna(0)"
   ],
   "metadata": {
    "collapsed": false,
    "pycharm": {
     "name": "#%%\n"
    }
   }
  },
  {
   "cell_type": "code",
   "execution_count": 586,
   "outputs": [
    {
     "name": "stdout",
     "output_type": "stream",
     "text": [
      "timestamp                 201.000000\n",
      "rides_canceled              0.000000\n",
      "rides_not_accomplished      5.000000\n",
      "rides_completed             0.000000\n",
      "rides_accepted             20.000000\n",
      "total_rides                 6.000000\n",
      "unserved_requests_100       0.444444\n",
      "unserved_requests_200       0.208333\n",
      "unserved_requests_500       0.000000\n",
      "overhead_100                0.000000\n",
      "overhead_200                0.000000\n",
      "overhead_500                0.000000\n",
      "price_fluctuation_100       0.000000\n",
      "price_fluctuation_200       0.000000\n",
      "price_fluctuation_500       0.000000\n",
      "Name: 200, dtype: float64\n"
     ]
    }
   ],
   "source": [
    "print(df_global.iloc[200,:])"
   ],
   "metadata": {
    "collapsed": false,
    "pycharm": {
     "name": "#%%\n"
    }
   }
  },
  {
   "cell_type": "code",
   "execution_count": 587,
   "outputs": [],
   "source": [
    "df_global.to_csv(\"../analysis/v4/underground.csv\", index=False)"
   ],
   "metadata": {
    "collapsed": false,
    "pycharm": {
     "name": "#%%\n"
    }
   }
  },
  {
   "cell_type": "code",
   "execution_count": 588,
   "outputs": [],
   "source": [
    "unserved_100_mean = df_global[\"unserved_requests_100\"].mean()\n",
    "unserved_200_mean = df_global[\"unserved_requests_200\"].mean()\n",
    "unserved_500_mean = df_global[\"unserved_requests_500\"].mean()\n",
    "unserved_100_min = df_global[\"unserved_requests_100\"].mean()\n",
    "unserved_200_min = df_global[\"unserved_requests_200\"].mean()\n",
    "unserved_500_min = df_global[\"unserved_requests_500\"].mean()\n",
    "unserved_100_min = df_global[\"unserved_requests_100\"].mean()\n",
    "unserved_200_min = df_global[\"unserved_requests_200\"].mean()\n",
    "unserved_500_min = df_global[\"unserved_requests_500\"].mean()"
   ],
   "metadata": {
    "collapsed": false,
    "pycharm": {
     "name": "#%%\n"
    }
   }
  },
  {
   "cell_type": "code",
   "execution_count": 105,
   "outputs": [
    {
     "data": {
      "text/plain": "   timestamp  expected_total_time  total_time  expected_ride_price  \\\n0      332.0               165.50       325.0                19.24   \n1      366.0               171.42       272.0                19.64   \n2      397.0               110.30       222.0                16.22   \n3      407.0               183.67       387.0                18.96   \n4      416.0               110.27       333.0                11.73   \n\n   ride_price  overhead  price_fluctuation  \n0       30.69  0.963746           0.963746  \n1       30.49  0.586746           0.586746  \n2       28.44  1.012693           1.012693  \n3       37.26  1.107040           1.107040  \n4       32.75  2.019860           2.019860  ",
      "text/html": "<div>\n<style scoped>\n    .dataframe tbody tr th:only-of-type {\n        vertical-align: middle;\n    }\n\n    .dataframe tbody tr th {\n        vertical-align: top;\n    }\n\n    .dataframe thead th {\n        text-align: right;\n    }\n</style>\n<table border=\"1\" class=\"dataframe\">\n  <thead>\n    <tr style=\"text-align: right;\">\n      <th></th>\n      <th>timestamp</th>\n      <th>expected_total_time</th>\n      <th>total_time</th>\n      <th>expected_ride_price</th>\n      <th>ride_price</th>\n      <th>overhead</th>\n      <th>price_fluctuation</th>\n    </tr>\n  </thead>\n  <tbody>\n    <tr>\n      <th>0</th>\n      <td>332.0</td>\n      <td>165.50</td>\n      <td>325.0</td>\n      <td>19.24</td>\n      <td>30.69</td>\n      <td>0.963746</td>\n      <td>0.963746</td>\n    </tr>\n    <tr>\n      <th>1</th>\n      <td>366.0</td>\n      <td>171.42</td>\n      <td>272.0</td>\n      <td>19.64</td>\n      <td>30.49</td>\n      <td>0.586746</td>\n      <td>0.586746</td>\n    </tr>\n    <tr>\n      <th>2</th>\n      <td>397.0</td>\n      <td>110.30</td>\n      <td>222.0</td>\n      <td>16.22</td>\n      <td>28.44</td>\n      <td>1.012693</td>\n      <td>1.012693</td>\n    </tr>\n    <tr>\n      <th>3</th>\n      <td>407.0</td>\n      <td>183.67</td>\n      <td>387.0</td>\n      <td>18.96</td>\n      <td>37.26</td>\n      <td>1.107040</td>\n      <td>1.107040</td>\n    </tr>\n    <tr>\n      <th>4</th>\n      <td>416.0</td>\n      <td>110.27</td>\n      <td>333.0</td>\n      <td>11.73</td>\n      <td>32.75</td>\n      <td>2.019860</td>\n      <td>2.019860</td>\n    </tr>\n  </tbody>\n</table>\n</div>"
     },
     "execution_count": 105,
     "metadata": {},
     "output_type": "execute_result"
    }
   ],
   "source": [
    "df_specific[\"overhead\"] = df_specific.apply(lambda x: (x[\"total_time\"]-x[\"expected_total_time\"])/(x[\"expected_total_time\"]), axis=1)\n",
    "df_specific.head()"
   ],
   "metadata": {
    "collapsed": false,
    "pycharm": {
     "name": "#%%\n"
    }
   }
  },
  {
   "cell_type": "code",
   "execution_count": 64,
   "outputs": [
    {
     "data": {
      "text/plain": "   timestamp  rides_canceled  rides_not_accomplished  rides_completed  \\\n0        1.0               0                       0                0   \n1        2.0               0                       0                0   \n2        3.0               0                       0                0   \n3        4.0               0                       0                0   \n4        5.0               0                       0                0   \n\n   rides_accepted  total_rides  \n0               0            0  \n1               0            2  \n2               0            2  \n3               0            2  \n4               0            2  ",
      "text/html": "<div>\n<style scoped>\n    .dataframe tbody tr th:only-of-type {\n        vertical-align: middle;\n    }\n\n    .dataframe tbody tr th {\n        vertical-align: top;\n    }\n\n    .dataframe thead th {\n        text-align: right;\n    }\n</style>\n<table border=\"1\" class=\"dataframe\">\n  <thead>\n    <tr style=\"text-align: right;\">\n      <th></th>\n      <th>timestamp</th>\n      <th>rides_canceled</th>\n      <th>rides_not_accomplished</th>\n      <th>rides_completed</th>\n      <th>rides_accepted</th>\n      <th>total_rides</th>\n    </tr>\n  </thead>\n  <tbody>\n    <tr>\n      <th>0</th>\n      <td>1.0</td>\n      <td>0</td>\n      <td>0</td>\n      <td>0</td>\n      <td>0</td>\n      <td>0</td>\n    </tr>\n    <tr>\n      <th>1</th>\n      <td>2.0</td>\n      <td>0</td>\n      <td>0</td>\n      <td>0</td>\n      <td>0</td>\n      <td>2</td>\n    </tr>\n    <tr>\n      <th>2</th>\n      <td>3.0</td>\n      <td>0</td>\n      <td>0</td>\n      <td>0</td>\n      <td>0</td>\n      <td>2</td>\n    </tr>\n    <tr>\n      <th>3</th>\n      <td>4.0</td>\n      <td>0</td>\n      <td>0</td>\n      <td>0</td>\n      <td>0</td>\n      <td>2</td>\n    </tr>\n    <tr>\n      <th>4</th>\n      <td>5.0</td>\n      <td>0</td>\n      <td>0</td>\n      <td>0</td>\n      <td>0</td>\n      <td>2</td>\n    </tr>\n  </tbody>\n</table>\n</div>"
     },
     "execution_count": 64,
     "metadata": {},
     "output_type": "execute_result"
    }
   ],
   "source": [
    "df_global.head()"
   ],
   "metadata": {
    "collapsed": false,
    "pycharm": {
     "name": "#%%\n"
    }
   }
  },
  {
   "cell_type": "code",
   "execution_count": null,
   "outputs": [],
   "source": [
    "df_window = df_global.iloc[0:500,:]\n",
    "df_window[\"unserved_numerator\"] = df_window[]\n",
    "df_window.head()"
   ],
   "metadata": {
    "collapsed": false,
    "pycharm": {
     "name": "#%%\n"
    }
   }
  },
  {
   "cell_type": "code",
   "execution_count": null,
   "outputs": [],
   "source": [
    "df_499 = df_global.iloc[499,:]\n",
    "df_499"
   ],
   "metadata": {
    "collapsed": false,
    "pycharm": {
     "name": "#%%\n"
    }
   }
  },
  {
   "cell_type": "code",
   "execution_count": null,
   "outputs": [],
   "source": [
    "df_num = df_global.iloc[499,:][\"rides_canceled\"] - df_global.iloc[0,:][\"rides_canceled\"] +  df_global.iloc[499,:][\"rides_not_accomplished\"] - df_global.iloc[0,:][\"rides_not_accomplished\"]\n",
    "df_num"
   ],
   "metadata": {
    "collapsed": false,
    "pycharm": {
     "name": "#%%\n"
    }
   }
  }
 ],
 "metadata": {
  "kernelspec": {
   "display_name": "Python 3",
   "language": "python",
   "name": "python3"
  },
  "language_info": {
   "codemirror_mode": {
    "name": "ipython",
    "version": 2
   },
   "file_extension": ".py",
   "mimetype": "text/x-python",
   "name": "python",
   "nbconvert_exporter": "python",
   "pygments_lexer": "ipython2",
   "version": "2.7.6"
  }
 },
 "nbformat": 4,
 "nbformat_minor": 0
}