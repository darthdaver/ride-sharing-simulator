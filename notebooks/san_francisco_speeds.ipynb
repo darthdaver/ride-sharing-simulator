{
 "cells": [
  {
   "cell_type": "code",
   "execution_count": 142,
   "metadata": {
    "collapsed": true
   },
   "outputs": [
    {
     "name": "stdout",
     "output_type": "stream",
     "text": [
      "Requirement already satisfied: pandas in /Users/davidemolinelli/miniconda3/envs/ride-sharing-simulator/lib/python3.9/site-packages (1.4.3)\r\n",
      "Requirement already satisfied: numpy>=1.18.5 in /Users/davidemolinelli/miniconda3/envs/ride-sharing-simulator/lib/python3.9/site-packages (from pandas) (1.23.0)\r\n",
      "Requirement already satisfied: pytz>=2020.1 in /Users/davidemolinelli/miniconda3/envs/ride-sharing-simulator/lib/python3.9/site-packages (from pandas) (2022.2.1)\r\n",
      "Requirement already satisfied: python-dateutil>=2.8.1 in /Users/davidemolinelli/miniconda3/envs/ride-sharing-simulator/lib/python3.9/site-packages (from pandas) (2.8.2)\r\n",
      "Requirement already satisfied: six>=1.5 in /Users/davidemolinelli/miniconda3/envs/ride-sharing-simulator/lib/python3.9/site-packages (from python-dateutil>=2.8.1->pandas) (1.16.0)\r\n"
     ]
    }
   ],
   "source": [
    "!pip install pandas"
   ]
  },
  {
   "cell_type": "code",
   "execution_count": 1,
   "outputs": [],
   "source": [
    "import pandas as pd\n",
    "import itertools"
   ],
   "metadata": {
    "collapsed": false,
    "pycharm": {
     "name": "#%%\n"
    }
   }
  },
  {
   "cell_type": "code",
   "execution_count": 2,
   "outputs": [],
   "source": [
    "df_speed = pd.read_csv(\"../data/san_francisco_speed.csv\")"
   ],
   "metadata": {
    "collapsed": false,
    "pycharm": {
     "name": "#%%\n"
    }
   }
  },
  {
   "cell_type": "code",
   "execution_count": 3,
   "outputs": [],
   "source": [
    "df_ways = pd.read_csv(\"../data/way_ids_sf_n_o.csv\")"
   ],
   "metadata": {
    "collapsed": false,
    "pycharm": {
     "name": "#%%\n"
    }
   }
  },
  {
   "cell_type": "code",
   "execution_count": 4,
   "outputs": [],
   "source": [
    "df_taz_q_1 = pd.read_csv(\"../data/san_francisco-taz-2018-1-All-HourlyAggregate.csv\")\n",
    "df_taz_q_1[\"quarter\"] = 1\n",
    "df_taz_q_2 = pd.read_csv(\"../data/san_francisco-taz-2018-2-All-HourlyAggregate.csv\")\n",
    "df_taz_q_2[\"quarter\"] = 2\n",
    "df_taz_q_3 = pd.read_csv(\"../data/san_francisco-taz-2018-3-All-HourlyAggregate.csv\")\n",
    "df_taz_q_3[\"quarter\"] = 3\n",
    "df_taz_q_4 = pd.read_csv(\"../data/san_francisco-taz-2018-4-All-HourlyAggregate.csv\")\n",
    "df_taz_q_4[\"quarter\"] = 4\n",
    "frames = [df_taz_q_1, df_taz_q_2, df_taz_q_3, df_taz_q_4]\n",
    "df_taz = pd.concat(frames)"
   ],
   "metadata": {
    "collapsed": false,
    "pycharm": {
     "name": "#%%\n"
    }
   }
  },
  {
   "cell_type": "code",
   "execution_count": 5,
   "outputs": [],
   "source": [
    "df_taz_ids = pd.read_csv(\"../data/taz_ids_sf_n_o.csv\")"
   ],
   "metadata": {
    "collapsed": false,
    "pycharm": {
     "name": "#%%\n"
    }
   }
  },
  {
   "cell_type": "code",
   "execution_count": 6,
   "outputs": [],
   "source": [
    "df_mov_ids = pd.read_csv(\"../data/movement_ids_sf_n_o.csv\")"
   ],
   "metadata": {
    "collapsed": false,
    "pycharm": {
     "name": "#%%\n"
    }
   }
  },
  {
   "cell_type": "code",
   "execution_count": 7,
   "outputs": [
    {
     "data": {
      "text/plain": "(21086235, 13)"
     },
     "execution_count": 7,
     "metadata": {},
     "output_type": "execute_result"
    }
   ],
   "source": [
    "df_speed.shape"
   ],
   "metadata": {
    "collapsed": false,
    "pycharm": {
     "name": "#%%\n"
    }
   }
  },
  {
   "cell_type": "code",
   "execution_count": 8,
   "outputs": [
    {
     "data": {
      "text/plain": "   year  quarter  hour_of_day                                segment_id  \\\n0  2018        1           17  df089962c85c67603f2e90c969931d72ab02c1ee   \n1  2018        1           22  df089962c85c67603f2e90c969931d72ab02c1ee   \n2  2018        1           19  df089962c85c67603f2e90c969931d72ab02c1ee   \n3  2018        1            0  df089962c85c67603f2e90c969931d72ab02c1ee   \n4  2018        1            1  df089962c85c67603f2e90c969931d72ab02c1ee   \n\n                          start_junction_id  \\\n0  5bea0e8381e051830525c0aba0141bde108dc02d   \n1  5bea0e8381e051830525c0aba0141bde108dc02d   \n2  5bea0e8381e051830525c0aba0141bde108dc02d   \n3  5bea0e8381e051830525c0aba0141bde108dc02d   \n4  5bea0e8381e051830525c0aba0141bde108dc02d   \n\n                            end_junction_id  osm_way_id  osm_start_node_id  \\\n0  2278ad9374ec96c35a0d769bc8a275f6355b55da    40722998         5780849015   \n1  2278ad9374ec96c35a0d769bc8a275f6355b55da    40722998         5780849015   \n2  2278ad9374ec96c35a0d769bc8a275f6355b55da    40722998         5780849015   \n3  2278ad9374ec96c35a0d769bc8a275f6355b55da    40722998         5780849015   \n4  2278ad9374ec96c35a0d769bc8a275f6355b55da    40722998         5780849015   \n\n   osm_end_node_id  speed_mph_mean  speed_mph_stddev  speed_mph_p50  \\\n0       4927951349          26.387             7.985         23.598   \n1       4927951349          26.511             7.663         25.989   \n2       4927951349          25.704            10.623         24.357   \n3       4927951349          25.001             8.346         24.470   \n4       4927951349          26.750             7.471         25.989   \n\n   speed_mph_p85  \n0         37.601  \n1         32.295  \n2         30.325  \n3         33.556  \n4         31.402  ",
      "text/html": "<div>\n<style scoped>\n    .dataframe tbody tr th:only-of-type {\n        vertical-align: middle;\n    }\n\n    .dataframe tbody tr th {\n        vertical-align: top;\n    }\n\n    .dataframe thead th {\n        text-align: right;\n    }\n</style>\n<table border=\"1\" class=\"dataframe\">\n  <thead>\n    <tr style=\"text-align: right;\">\n      <th></th>\n      <th>year</th>\n      <th>quarter</th>\n      <th>hour_of_day</th>\n      <th>segment_id</th>\n      <th>start_junction_id</th>\n      <th>end_junction_id</th>\n      <th>osm_way_id</th>\n      <th>osm_start_node_id</th>\n      <th>osm_end_node_id</th>\n      <th>speed_mph_mean</th>\n      <th>speed_mph_stddev</th>\n      <th>speed_mph_p50</th>\n      <th>speed_mph_p85</th>\n    </tr>\n  </thead>\n  <tbody>\n    <tr>\n      <th>0</th>\n      <td>2018</td>\n      <td>1</td>\n      <td>17</td>\n      <td>df089962c85c67603f2e90c969931d72ab02c1ee</td>\n      <td>5bea0e8381e051830525c0aba0141bde108dc02d</td>\n      <td>2278ad9374ec96c35a0d769bc8a275f6355b55da</td>\n      <td>40722998</td>\n      <td>5780849015</td>\n      <td>4927951349</td>\n      <td>26.387</td>\n      <td>7.985</td>\n      <td>23.598</td>\n      <td>37.601</td>\n    </tr>\n    <tr>\n      <th>1</th>\n      <td>2018</td>\n      <td>1</td>\n      <td>22</td>\n      <td>df089962c85c67603f2e90c969931d72ab02c1ee</td>\n      <td>5bea0e8381e051830525c0aba0141bde108dc02d</td>\n      <td>2278ad9374ec96c35a0d769bc8a275f6355b55da</td>\n      <td>40722998</td>\n      <td>5780849015</td>\n      <td>4927951349</td>\n      <td>26.511</td>\n      <td>7.663</td>\n      <td>25.989</td>\n      <td>32.295</td>\n    </tr>\n    <tr>\n      <th>2</th>\n      <td>2018</td>\n      <td>1</td>\n      <td>19</td>\n      <td>df089962c85c67603f2e90c969931d72ab02c1ee</td>\n      <td>5bea0e8381e051830525c0aba0141bde108dc02d</td>\n      <td>2278ad9374ec96c35a0d769bc8a275f6355b55da</td>\n      <td>40722998</td>\n      <td>5780849015</td>\n      <td>4927951349</td>\n      <td>25.704</td>\n      <td>10.623</td>\n      <td>24.357</td>\n      <td>30.325</td>\n    </tr>\n    <tr>\n      <th>3</th>\n      <td>2018</td>\n      <td>1</td>\n      <td>0</td>\n      <td>df089962c85c67603f2e90c969931d72ab02c1ee</td>\n      <td>5bea0e8381e051830525c0aba0141bde108dc02d</td>\n      <td>2278ad9374ec96c35a0d769bc8a275f6355b55da</td>\n      <td>40722998</td>\n      <td>5780849015</td>\n      <td>4927951349</td>\n      <td>25.001</td>\n      <td>8.346</td>\n      <td>24.470</td>\n      <td>33.556</td>\n    </tr>\n    <tr>\n      <th>4</th>\n      <td>2018</td>\n      <td>1</td>\n      <td>1</td>\n      <td>df089962c85c67603f2e90c969931d72ab02c1ee</td>\n      <td>5bea0e8381e051830525c0aba0141bde108dc02d</td>\n      <td>2278ad9374ec96c35a0d769bc8a275f6355b55da</td>\n      <td>40722998</td>\n      <td>5780849015</td>\n      <td>4927951349</td>\n      <td>26.750</td>\n      <td>7.471</td>\n      <td>25.989</td>\n      <td>31.402</td>\n    </tr>\n  </tbody>\n</table>\n</div>"
     },
     "execution_count": 8,
     "metadata": {},
     "output_type": "execute_result"
    }
   ],
   "source": [
    "df_speed.head()"
   ],
   "metadata": {
    "collapsed": false,
    "pycharm": {
     "name": "#%%\n"
    }
   }
  },
  {
   "cell_type": "code",
   "execution_count": 9,
   "outputs": [
    {
     "data": {
      "text/plain": "(12488, 1)"
     },
     "execution_count": 9,
     "metadata": {},
     "output_type": "execute_result"
    }
   ],
   "source": [
    "df_ways.shape"
   ],
   "metadata": {
    "collapsed": false,
    "pycharm": {
     "name": "#%%\n"
    }
   }
  },
  {
   "cell_type": "code",
   "execution_count": 10,
   "outputs": [
    {
     "data": {
      "text/plain": "   osm_way_id\n0    87554970\n1   922496211\n2   133781781\n3   675941015\n4    24335490",
      "text/html": "<div>\n<style scoped>\n    .dataframe tbody tr th:only-of-type {\n        vertical-align: middle;\n    }\n\n    .dataframe tbody tr th {\n        vertical-align: top;\n    }\n\n    .dataframe thead th {\n        text-align: right;\n    }\n</style>\n<table border=\"1\" class=\"dataframe\">\n  <thead>\n    <tr style=\"text-align: right;\">\n      <th></th>\n      <th>osm_way_id</th>\n    </tr>\n  </thead>\n  <tbody>\n    <tr>\n      <th>0</th>\n      <td>87554970</td>\n    </tr>\n    <tr>\n      <th>1</th>\n      <td>922496211</td>\n    </tr>\n    <tr>\n      <th>2</th>\n      <td>133781781</td>\n    </tr>\n    <tr>\n      <th>3</th>\n      <td>675941015</td>\n    </tr>\n    <tr>\n      <th>4</th>\n      <td>24335490</td>\n    </tr>\n  </tbody>\n</table>\n</div>"
     },
     "execution_count": 10,
     "metadata": {},
     "output_type": "execute_result"
    }
   ],
   "source": [
    "df_ways.head()"
   ],
   "metadata": {
    "collapsed": false,
    "pycharm": {
     "name": "#%%\n"
    }
   }
  },
  {
   "cell_type": "code",
   "execution_count": 11,
   "outputs": [
    {
     "data": {
      "text/plain": "(151185924, 8)"
     },
     "execution_count": 11,
     "metadata": {},
     "output_type": "execute_result"
    }
   ],
   "source": [
    "df_taz.shape"
   ],
   "metadata": {
    "collapsed": false,
    "pycharm": {
     "name": "#%%\n"
    }
   }
  },
  {
   "cell_type": "code",
   "execution_count": 12,
   "outputs": [
    {
     "data": {
      "text/plain": "   sourceid  dstid   hod  mean_travel_time  standard_deviation_travel_time  \\\n0       500  852.0  16.0            541.33                          227.23   \n1       500  913.0  14.0            246.91                          131.86   \n2       576  497.0  22.0            350.62                          193.89   \n3       586  497.0  15.0            503.27                          231.48   \n4       594  583.0  16.0            117.40                          119.64   \n\n   geometric_mean_travel_time  geometric_standard_deviation_travel_time  \\\n0                      472.69                                      1.80   \n1                      214.52                                      1.73   \n2                      301.64                                      1.73   \n3                      447.95                                      1.66   \n4                       77.59                                      2.37   \n\n   quarter  \n0        1  \n1        1  \n2        1  \n3        1  \n4        1  ",
      "text/html": "<div>\n<style scoped>\n    .dataframe tbody tr th:only-of-type {\n        vertical-align: middle;\n    }\n\n    .dataframe tbody tr th {\n        vertical-align: top;\n    }\n\n    .dataframe thead th {\n        text-align: right;\n    }\n</style>\n<table border=\"1\" class=\"dataframe\">\n  <thead>\n    <tr style=\"text-align: right;\">\n      <th></th>\n      <th>sourceid</th>\n      <th>dstid</th>\n      <th>hod</th>\n      <th>mean_travel_time</th>\n      <th>standard_deviation_travel_time</th>\n      <th>geometric_mean_travel_time</th>\n      <th>geometric_standard_deviation_travel_time</th>\n      <th>quarter</th>\n    </tr>\n  </thead>\n  <tbody>\n    <tr>\n      <th>0</th>\n      <td>500</td>\n      <td>852.0</td>\n      <td>16.0</td>\n      <td>541.33</td>\n      <td>227.23</td>\n      <td>472.69</td>\n      <td>1.80</td>\n      <td>1</td>\n    </tr>\n    <tr>\n      <th>1</th>\n      <td>500</td>\n      <td>913.0</td>\n      <td>14.0</td>\n      <td>246.91</td>\n      <td>131.86</td>\n      <td>214.52</td>\n      <td>1.73</td>\n      <td>1</td>\n    </tr>\n    <tr>\n      <th>2</th>\n      <td>576</td>\n      <td>497.0</td>\n      <td>22.0</td>\n      <td>350.62</td>\n      <td>193.89</td>\n      <td>301.64</td>\n      <td>1.73</td>\n      <td>1</td>\n    </tr>\n    <tr>\n      <th>3</th>\n      <td>586</td>\n      <td>497.0</td>\n      <td>15.0</td>\n      <td>503.27</td>\n      <td>231.48</td>\n      <td>447.95</td>\n      <td>1.66</td>\n      <td>1</td>\n    </tr>\n    <tr>\n      <th>4</th>\n      <td>594</td>\n      <td>583.0</td>\n      <td>16.0</td>\n      <td>117.40</td>\n      <td>119.64</td>\n      <td>77.59</td>\n      <td>2.37</td>\n      <td>1</td>\n    </tr>\n  </tbody>\n</table>\n</div>"
     },
     "execution_count": 12,
     "metadata": {},
     "output_type": "execute_result"
    }
   ],
   "source": [
    "df_taz.head()"
   ],
   "metadata": {
    "collapsed": false,
    "pycharm": {
     "name": "#%%\n"
    }
   }
  },
  {
   "cell_type": "code",
   "execution_count": 13,
   "outputs": [],
   "source": [
    "df_taz = df_taz.dropna()\n",
    "df_taz.dstid = df_taz.dstid.astype(int)\n",
    "df_taz.hod = df_taz.hod.astype(int)"
   ],
   "metadata": {
    "collapsed": false,
    "pycharm": {
     "name": "#%%\n"
    }
   }
  },
  {
   "cell_type": "code",
   "execution_count": 14,
   "outputs": [
    {
     "data": {
      "text/plain": "(151185922, 8)"
     },
     "execution_count": 14,
     "metadata": {},
     "output_type": "execute_result"
    }
   ],
   "source": [
    "df_taz.shape"
   ],
   "metadata": {
    "collapsed": false,
    "pycharm": {
     "name": "#%%\n"
    }
   }
  },
  {
   "cell_type": "code",
   "execution_count": 15,
   "outputs": [
    {
     "data": {
      "text/plain": "   sourceid  dstid  hod  mean_travel_time  standard_deviation_travel_time  \\\n0       500    852   16            541.33                          227.23   \n1       500    913   14            246.91                          131.86   \n2       576    497   22            350.62                          193.89   \n3       586    497   15            503.27                          231.48   \n4       594    583   16            117.40                          119.64   \n\n   geometric_mean_travel_time  geometric_standard_deviation_travel_time  \\\n0                      472.69                                      1.80   \n1                      214.52                                      1.73   \n2                      301.64                                      1.73   \n3                      447.95                                      1.66   \n4                       77.59                                      2.37   \n\n   quarter  \n0        1  \n1        1  \n2        1  \n3        1  \n4        1  ",
      "text/html": "<div>\n<style scoped>\n    .dataframe tbody tr th:only-of-type {\n        vertical-align: middle;\n    }\n\n    .dataframe tbody tr th {\n        vertical-align: top;\n    }\n\n    .dataframe thead th {\n        text-align: right;\n    }\n</style>\n<table border=\"1\" class=\"dataframe\">\n  <thead>\n    <tr style=\"text-align: right;\">\n      <th></th>\n      <th>sourceid</th>\n      <th>dstid</th>\n      <th>hod</th>\n      <th>mean_travel_time</th>\n      <th>standard_deviation_travel_time</th>\n      <th>geometric_mean_travel_time</th>\n      <th>geometric_standard_deviation_travel_time</th>\n      <th>quarter</th>\n    </tr>\n  </thead>\n  <tbody>\n    <tr>\n      <th>0</th>\n      <td>500</td>\n      <td>852</td>\n      <td>16</td>\n      <td>541.33</td>\n      <td>227.23</td>\n      <td>472.69</td>\n      <td>1.80</td>\n      <td>1</td>\n    </tr>\n    <tr>\n      <th>1</th>\n      <td>500</td>\n      <td>913</td>\n      <td>14</td>\n      <td>246.91</td>\n      <td>131.86</td>\n      <td>214.52</td>\n      <td>1.73</td>\n      <td>1</td>\n    </tr>\n    <tr>\n      <th>2</th>\n      <td>576</td>\n      <td>497</td>\n      <td>22</td>\n      <td>350.62</td>\n      <td>193.89</td>\n      <td>301.64</td>\n      <td>1.73</td>\n      <td>1</td>\n    </tr>\n    <tr>\n      <th>3</th>\n      <td>586</td>\n      <td>497</td>\n      <td>15</td>\n      <td>503.27</td>\n      <td>231.48</td>\n      <td>447.95</td>\n      <td>1.66</td>\n      <td>1</td>\n    </tr>\n    <tr>\n      <th>4</th>\n      <td>594</td>\n      <td>583</td>\n      <td>16</td>\n      <td>117.40</td>\n      <td>119.64</td>\n      <td>77.59</td>\n      <td>2.37</td>\n      <td>1</td>\n    </tr>\n  </tbody>\n</table>\n</div>"
     },
     "execution_count": 15,
     "metadata": {},
     "output_type": "execute_result"
    }
   ],
   "source": [
    "df_taz.head()"
   ],
   "metadata": {
    "collapsed": false,
    "pycharm": {
     "name": "#%%\n"
    }
   }
  },
  {
   "cell_type": "code",
   "execution_count": 16,
   "outputs": [
    {
     "data": {
      "text/plain": "          sourceid  dstid  hod  mean_travel_time  \\\n4202422       3377   3438   14            185.90   \n4521242       3377   3438   17            207.38   \n6434946       3377   3438   19            158.96   \n9629859       3377   3438    1            137.00   \n10905873      3377   3438   18            188.65   \n...            ...    ...  ...               ...   \n38840678      3377   3438    6            154.40   \n39047813      3377   3438    4            137.00   \n39370376      3377   3438   15            211.16   \n41056579      3377   3438    0            141.87   \n46462810      3377   3438    7            259.02   \n\n          standard_deviation_travel_time  geometric_mean_travel_time  \\\n4202422                           142.20                      158.51   \n4521242                           154.21                      176.25   \n6434946                           114.26                      140.91   \n9629859                            89.42                      124.04   \n10905873                          134.21                      162.22   \n...                                  ...                         ...   \n38840678                           90.06                      139.67   \n39047813                           75.18                      125.62   \n39370376                          174.85                      175.23   \n41056579                           78.03                      131.18   \n46462810                          159.10                      221.94   \n\n          geometric_standard_deviation_travel_time  quarter  \n4202422                                       1.70        1  \n4521242                                       1.72        1  \n6434946                                       1.57        1  \n9629859                                       1.51        1  \n10905873                                      1.68        1  \n...                                            ...      ...  \n38840678                                      1.51        4  \n39047813                                      1.46        4  \n39370376                                      1.76        4  \n41056579                                      1.43        4  \n46462810                                      1.74        4  \n\n[79 rows x 8 columns]",
      "text/html": "<div>\n<style scoped>\n    .dataframe tbody tr th:only-of-type {\n        vertical-align: middle;\n    }\n\n    .dataframe tbody tr th {\n        vertical-align: top;\n    }\n\n    .dataframe thead th {\n        text-align: right;\n    }\n</style>\n<table border=\"1\" class=\"dataframe\">\n  <thead>\n    <tr style=\"text-align: right;\">\n      <th></th>\n      <th>sourceid</th>\n      <th>dstid</th>\n      <th>hod</th>\n      <th>mean_travel_time</th>\n      <th>standard_deviation_travel_time</th>\n      <th>geometric_mean_travel_time</th>\n      <th>geometric_standard_deviation_travel_time</th>\n      <th>quarter</th>\n    </tr>\n  </thead>\n  <tbody>\n    <tr>\n      <th>4202422</th>\n      <td>3377</td>\n      <td>3438</td>\n      <td>14</td>\n      <td>185.90</td>\n      <td>142.20</td>\n      <td>158.51</td>\n      <td>1.70</td>\n      <td>1</td>\n    </tr>\n    <tr>\n      <th>4521242</th>\n      <td>3377</td>\n      <td>3438</td>\n      <td>17</td>\n      <td>207.38</td>\n      <td>154.21</td>\n      <td>176.25</td>\n      <td>1.72</td>\n      <td>1</td>\n    </tr>\n    <tr>\n      <th>6434946</th>\n      <td>3377</td>\n      <td>3438</td>\n      <td>19</td>\n      <td>158.96</td>\n      <td>114.26</td>\n      <td>140.91</td>\n      <td>1.57</td>\n      <td>1</td>\n    </tr>\n    <tr>\n      <th>9629859</th>\n      <td>3377</td>\n      <td>3438</td>\n      <td>1</td>\n      <td>137.00</td>\n      <td>89.42</td>\n      <td>124.04</td>\n      <td>1.51</td>\n      <td>1</td>\n    </tr>\n    <tr>\n      <th>10905873</th>\n      <td>3377</td>\n      <td>3438</td>\n      <td>18</td>\n      <td>188.65</td>\n      <td>134.21</td>\n      <td>162.22</td>\n      <td>1.68</td>\n      <td>1</td>\n    </tr>\n    <tr>\n      <th>...</th>\n      <td>...</td>\n      <td>...</td>\n      <td>...</td>\n      <td>...</td>\n      <td>...</td>\n      <td>...</td>\n      <td>...</td>\n      <td>...</td>\n    </tr>\n    <tr>\n      <th>38840678</th>\n      <td>3377</td>\n      <td>3438</td>\n      <td>6</td>\n      <td>154.40</td>\n      <td>90.06</td>\n      <td>139.67</td>\n      <td>1.51</td>\n      <td>4</td>\n    </tr>\n    <tr>\n      <th>39047813</th>\n      <td>3377</td>\n      <td>3438</td>\n      <td>4</td>\n      <td>137.00</td>\n      <td>75.18</td>\n      <td>125.62</td>\n      <td>1.46</td>\n      <td>4</td>\n    </tr>\n    <tr>\n      <th>39370376</th>\n      <td>3377</td>\n      <td>3438</td>\n      <td>15</td>\n      <td>211.16</td>\n      <td>174.85</td>\n      <td>175.23</td>\n      <td>1.76</td>\n      <td>4</td>\n    </tr>\n    <tr>\n      <th>41056579</th>\n      <td>3377</td>\n      <td>3438</td>\n      <td>0</td>\n      <td>141.87</td>\n      <td>78.03</td>\n      <td>131.18</td>\n      <td>1.43</td>\n      <td>4</td>\n    </tr>\n    <tr>\n      <th>46462810</th>\n      <td>3377</td>\n      <td>3438</td>\n      <td>7</td>\n      <td>259.02</td>\n      <td>159.10</td>\n      <td>221.94</td>\n      <td>1.74</td>\n      <td>4</td>\n    </tr>\n  </tbody>\n</table>\n<p>79 rows × 8 columns</p>\n</div>"
     },
     "execution_count": 16,
     "metadata": {},
     "output_type": "execute_result"
    }
   ],
   "source": [
    "df_taz.loc[(df_taz[\"sourceid\"]==3377) & (df_taz[\"dstid\"]==3438)]"
   ],
   "metadata": {
    "collapsed": false,
    "pycharm": {
     "name": "#%%\n"
    }
   }
  },
  {
   "cell_type": "code",
   "execution_count": 17,
   "outputs": [
    {
     "data": {
      "text/plain": "(311, 1)"
     },
     "execution_count": 17,
     "metadata": {},
     "output_type": "execute_result"
    }
   ],
   "source": [
    "df_taz_ids.shape"
   ],
   "metadata": {
    "collapsed": false,
    "pycharm": {
     "name": "#%%\n"
    }
   }
  },
  {
   "cell_type": "code",
   "execution_count": 18,
   "outputs": [
    {
     "data": {
      "text/plain": "   taz_id\n0  100281\n1  100301\n2  100324\n3  100321\n4  100284",
      "text/html": "<div>\n<style scoped>\n    .dataframe tbody tr th:only-of-type {\n        vertical-align: middle;\n    }\n\n    .dataframe tbody tr th {\n        vertical-align: top;\n    }\n\n    .dataframe thead th {\n        text-align: right;\n    }\n</style>\n<table border=\"1\" class=\"dataframe\">\n  <thead>\n    <tr style=\"text-align: right;\">\n      <th></th>\n      <th>taz_id</th>\n    </tr>\n  </thead>\n  <tbody>\n    <tr>\n      <th>0</th>\n      <td>100281</td>\n    </tr>\n    <tr>\n      <th>1</th>\n      <td>100301</td>\n    </tr>\n    <tr>\n      <th>2</th>\n      <td>100324</td>\n    </tr>\n    <tr>\n      <th>3</th>\n      <td>100321</td>\n    </tr>\n    <tr>\n      <th>4</th>\n      <td>100284</td>\n    </tr>\n  </tbody>\n</table>\n</div>"
     },
     "execution_count": 18,
     "metadata": {},
     "output_type": "execute_result"
    }
   ],
   "source": [
    "df_taz_ids.head()"
   ],
   "metadata": {
    "collapsed": false,
    "pycharm": {
     "name": "#%%\n"
    }
   }
  },
  {
   "cell_type": "code",
   "execution_count": 19,
   "outputs": [
    {
     "data": {
      "text/plain": "(311, 1)"
     },
     "execution_count": 19,
     "metadata": {},
     "output_type": "execute_result"
    }
   ],
   "source": [
    "df_mov_ids.shape"
   ],
   "metadata": {
    "collapsed": false,
    "pycharm": {
     "name": "#%%\n"
    }
   }
  },
  {
   "cell_type": "code",
   "execution_count": 20,
   "outputs": [
    {
     "data": {
      "text/plain": "   movement_id\n0         3370\n1         3372\n2         3375\n3         3389\n4         3394",
      "text/html": "<div>\n<style scoped>\n    .dataframe tbody tr th:only-of-type {\n        vertical-align: middle;\n    }\n\n    .dataframe tbody tr th {\n        vertical-align: top;\n    }\n\n    .dataframe thead th {\n        text-align: right;\n    }\n</style>\n<table border=\"1\" class=\"dataframe\">\n  <thead>\n    <tr style=\"text-align: right;\">\n      <th></th>\n      <th>movement_id</th>\n    </tr>\n  </thead>\n  <tbody>\n    <tr>\n      <th>0</th>\n      <td>3370</td>\n    </tr>\n    <tr>\n      <th>1</th>\n      <td>3372</td>\n    </tr>\n    <tr>\n      <th>2</th>\n      <td>3375</td>\n    </tr>\n    <tr>\n      <th>3</th>\n      <td>3389</td>\n    </tr>\n    <tr>\n      <th>4</th>\n      <td>3394</td>\n    </tr>\n  </tbody>\n</table>\n</div>"
     },
     "execution_count": 20,
     "metadata": {},
     "output_type": "execute_result"
    }
   ],
   "source": [
    "df_mov_ids.head()"
   ],
   "metadata": {
    "collapsed": false,
    "pycharm": {
     "name": "#%%\n"
    }
   }
  },
  {
   "cell_type": "code",
   "execution_count": 21,
   "outputs": [],
   "source": [
    "df_map_speed = pd.merge(df_speed, df_ways, how ='inner', on =[\"osm_way_id\"])"
   ],
   "metadata": {
    "collapsed": false,
    "pycharm": {
     "name": "#%%\n"
    }
   }
  },
  {
   "cell_type": "code",
   "execution_count": 22,
   "outputs": [
    {
     "data": {
      "text/plain": "(2281929, 13)"
     },
     "execution_count": 22,
     "metadata": {},
     "output_type": "execute_result"
    }
   ],
   "source": [
    "df_map_speed.shape"
   ],
   "metadata": {
    "collapsed": false,
    "pycharm": {
     "name": "#%%\n"
    }
   }
  },
  {
   "cell_type": "code",
   "execution_count": 23,
   "outputs": [
    {
     "data": {
      "text/plain": "   year  quarter  hour_of_day                                segment_id  \\\n0  2018        1           13  9457853c09fdae3b2b6ed0156a349ecc37e3b8aa   \n1  2018        1           21  9457853c09fdae3b2b6ed0156a349ecc37e3b8aa   \n2  2018        1            5  9457853c09fdae3b2b6ed0156a349ecc37e3b8aa   \n3  2018        1            2  9457853c09fdae3b2b6ed0156a349ecc37e3b8aa   \n4  2018        1           17  9457853c09fdae3b2b6ed0156a349ecc37e3b8aa   \n\n                          start_junction_id  \\\n0  70352b1548bacb23e9030a524883992691f697cb   \n1  70352b1548bacb23e9030a524883992691f697cb   \n2  70352b1548bacb23e9030a524883992691f697cb   \n3  70352b1548bacb23e9030a524883992691f697cb   \n4  70352b1548bacb23e9030a524883992691f697cb   \n\n                            end_junction_id  osm_way_id  osm_start_node_id  \\\n0  efdf1ffb248abe302d4fe9ccf67269fd671f55e0   417400722         4179595252   \n1  efdf1ffb248abe302d4fe9ccf67269fd671f55e0   417400722         4179595252   \n2  efdf1ffb248abe302d4fe9ccf67269fd671f55e0   417400722         4179595252   \n3  efdf1ffb248abe302d4fe9ccf67269fd671f55e0   417400722         4179595252   \n4  efdf1ffb248abe302d4fe9ccf67269fd671f55e0   417400722         4179595252   \n\n   osm_end_node_id  speed_mph_mean  speed_mph_stddev  speed_mph_p50  \\\n0         65293753          14.366            11.783         10.373   \n1         65293753          17.361            11.828         17.256   \n2         65293753          14.271            10.704          8.371   \n3         65293753          19.698            11.991         20.051   \n4         65293753           8.912             9.787          3.817   \n\n   speed_mph_p85  \n0         27.898  \n1         29.858  \n2         26.482  \n3         32.134  \n4         21.192  ",
      "text/html": "<div>\n<style scoped>\n    .dataframe tbody tr th:only-of-type {\n        vertical-align: middle;\n    }\n\n    .dataframe tbody tr th {\n        vertical-align: top;\n    }\n\n    .dataframe thead th {\n        text-align: right;\n    }\n</style>\n<table border=\"1\" class=\"dataframe\">\n  <thead>\n    <tr style=\"text-align: right;\">\n      <th></th>\n      <th>year</th>\n      <th>quarter</th>\n      <th>hour_of_day</th>\n      <th>segment_id</th>\n      <th>start_junction_id</th>\n      <th>end_junction_id</th>\n      <th>osm_way_id</th>\n      <th>osm_start_node_id</th>\n      <th>osm_end_node_id</th>\n      <th>speed_mph_mean</th>\n      <th>speed_mph_stddev</th>\n      <th>speed_mph_p50</th>\n      <th>speed_mph_p85</th>\n    </tr>\n  </thead>\n  <tbody>\n    <tr>\n      <th>0</th>\n      <td>2018</td>\n      <td>1</td>\n      <td>13</td>\n      <td>9457853c09fdae3b2b6ed0156a349ecc37e3b8aa</td>\n      <td>70352b1548bacb23e9030a524883992691f697cb</td>\n      <td>efdf1ffb248abe302d4fe9ccf67269fd671f55e0</td>\n      <td>417400722</td>\n      <td>4179595252</td>\n      <td>65293753</td>\n      <td>14.366</td>\n      <td>11.783</td>\n      <td>10.373</td>\n      <td>27.898</td>\n    </tr>\n    <tr>\n      <th>1</th>\n      <td>2018</td>\n      <td>1</td>\n      <td>21</td>\n      <td>9457853c09fdae3b2b6ed0156a349ecc37e3b8aa</td>\n      <td>70352b1548bacb23e9030a524883992691f697cb</td>\n      <td>efdf1ffb248abe302d4fe9ccf67269fd671f55e0</td>\n      <td>417400722</td>\n      <td>4179595252</td>\n      <td>65293753</td>\n      <td>17.361</td>\n      <td>11.828</td>\n      <td>17.256</td>\n      <td>29.858</td>\n    </tr>\n    <tr>\n      <th>2</th>\n      <td>2018</td>\n      <td>1</td>\n      <td>5</td>\n      <td>9457853c09fdae3b2b6ed0156a349ecc37e3b8aa</td>\n      <td>70352b1548bacb23e9030a524883992691f697cb</td>\n      <td>efdf1ffb248abe302d4fe9ccf67269fd671f55e0</td>\n      <td>417400722</td>\n      <td>4179595252</td>\n      <td>65293753</td>\n      <td>14.271</td>\n      <td>10.704</td>\n      <td>8.371</td>\n      <td>26.482</td>\n    </tr>\n    <tr>\n      <th>3</th>\n      <td>2018</td>\n      <td>1</td>\n      <td>2</td>\n      <td>9457853c09fdae3b2b6ed0156a349ecc37e3b8aa</td>\n      <td>70352b1548bacb23e9030a524883992691f697cb</td>\n      <td>efdf1ffb248abe302d4fe9ccf67269fd671f55e0</td>\n      <td>417400722</td>\n      <td>4179595252</td>\n      <td>65293753</td>\n      <td>19.698</td>\n      <td>11.991</td>\n      <td>20.051</td>\n      <td>32.134</td>\n    </tr>\n    <tr>\n      <th>4</th>\n      <td>2018</td>\n      <td>1</td>\n      <td>17</td>\n      <td>9457853c09fdae3b2b6ed0156a349ecc37e3b8aa</td>\n      <td>70352b1548bacb23e9030a524883992691f697cb</td>\n      <td>efdf1ffb248abe302d4fe9ccf67269fd671f55e0</td>\n      <td>417400722</td>\n      <td>4179595252</td>\n      <td>65293753</td>\n      <td>8.912</td>\n      <td>9.787</td>\n      <td>3.817</td>\n      <td>21.192</td>\n    </tr>\n  </tbody>\n</table>\n</div>"
     },
     "execution_count": 23,
     "metadata": {},
     "output_type": "execute_result"
    }
   ],
   "source": [
    "df_map_speed.head()"
   ],
   "metadata": {
    "collapsed": false,
    "pycharm": {
     "name": "#%%\n"
    }
   }
  },
  {
   "cell_type": "code",
   "execution_count": 24,
   "outputs": [],
   "source": [
    "mov_ids = df_mov_ids[\"movement_id\"].to_list()\n",
    "mov_ids_product = list(itertools.product(mov_ids,mov_ids))\n",
    "df_src_dst = pd.DataFrame(mov_ids_product, columns=[\"sourceid\", \"dstid\"])\n",
    "df_map_taz = pd.merge(df_taz, df_src_dst, how ='inner', on =[\"sourceid\", \"dstid\"])"
   ],
   "metadata": {
    "collapsed": false,
    "pycharm": {
     "name": "#%%\n"
    }
   }
  },
  {
   "cell_type": "code",
   "execution_count": 25,
   "outputs": [],
   "source": [
    "df_map_taz_filtered = df_map_taz[[\"sourceid\", \"dstid\", \"hod\", \"mean_travel_time\", \"standard_deviation_travel_time\", \"geometric_mean_travel_time\", \"geometric_standard_deviation_travel_time\"]]\n",
    "df_avg_taz = df_map_taz_filtered.groupby([\"sourceid\",\"dstid\"]).mean()\n",
    "df_avg_taz = df_avg_taz.reset_index()"
   ],
   "metadata": {
    "collapsed": false,
    "pycharm": {
     "name": "#%%\n"
    }
   }
  },
  {
   "cell_type": "code",
   "execution_count": 26,
   "outputs": [
    {
     "data": {
      "text/plain": "Empty DataFrame\nColumns: [sourceid, dstid, hod, mean_travel_time, standard_deviation_travel_time, geometric_mean_travel_time, geometric_standard_deviation_travel_time]\nIndex: []",
      "text/html": "<div>\n<style scoped>\n    .dataframe tbody tr th:only-of-type {\n        vertical-align: middle;\n    }\n\n    .dataframe tbody tr th {\n        vertical-align: top;\n    }\n\n    .dataframe thead th {\n        text-align: right;\n    }\n</style>\n<table border=\"1\" class=\"dataframe\">\n  <thead>\n    <tr style=\"text-align: right;\">\n      <th></th>\n      <th>sourceid</th>\n      <th>dstid</th>\n      <th>hod</th>\n      <th>mean_travel_time</th>\n      <th>standard_deviation_travel_time</th>\n      <th>geometric_mean_travel_time</th>\n      <th>geometric_standard_deviation_travel_time</th>\n    </tr>\n  </thead>\n  <tbody>\n  </tbody>\n</table>\n</div>"
     },
     "execution_count": 26,
     "metadata": {},
     "output_type": "execute_result"
    }
   ],
   "source": [
    "df_avg_taz.loc[(df_avg_taz[\"sourceid\"]==3377) & (df_avg_taz[\"dstid\"]==3438)]"
   ],
   "metadata": {
    "collapsed": false,
    "pycharm": {
     "name": "#%%\n"
    }
   }
  },
  {
   "cell_type": "code",
   "execution_count": 27,
   "outputs": [
    {
     "data": {
      "text/plain": "Empty DataFrame\nColumns: [sourceid, dstid, hod, mean_travel_time, standard_deviation_travel_time, geometric_mean_travel_time, geometric_standard_deviation_travel_time]\nIndex: []",
      "text/html": "<div>\n<style scoped>\n    .dataframe tbody tr th:only-of-type {\n        vertical-align: middle;\n    }\n\n    .dataframe tbody tr th {\n        vertical-align: top;\n    }\n\n    .dataframe thead th {\n        text-align: right;\n    }\n</style>\n<table border=\"1\" class=\"dataframe\">\n  <thead>\n    <tr style=\"text-align: right;\">\n      <th></th>\n      <th>sourceid</th>\n      <th>dstid</th>\n      <th>hod</th>\n      <th>mean_travel_time</th>\n      <th>standard_deviation_travel_time</th>\n      <th>geometric_mean_travel_time</th>\n      <th>geometric_standard_deviation_travel_time</th>\n    </tr>\n  </thead>\n  <tbody>\n  </tbody>\n</table>\n</div>"
     },
     "execution_count": 27,
     "metadata": {},
     "output_type": "execute_result"
    }
   ],
   "source": [
    "df_avg_taz.loc[(df_avg_taz[\"sourceid\"]==3438) & (df_avg_taz[\"dstid\"]==3377)]"
   ],
   "metadata": {
    "collapsed": false,
    "pycharm": {
     "name": "#%%\n"
    }
   }
  },
  {
   "cell_type": "code",
   "execution_count": 28,
   "outputs": [
    {
     "data": {
      "text/plain": "(96626, 7)"
     },
     "execution_count": 28,
     "metadata": {},
     "output_type": "execute_result"
    }
   ],
   "source": [
    "df_avg_taz.shape"
   ],
   "metadata": {
    "collapsed": false,
    "pycharm": {
     "name": "#%%\n"
    }
   }
  },
  {
   "cell_type": "code",
   "execution_count": 29,
   "outputs": [
    {
     "data": {
      "text/plain": "   sourceid  dstid        hod  mean_travel_time  \\\n0      3370   3370  23.000000        157.625000   \n1      3370   3372  11.621951        272.992927   \n2      3370   3375  11.545455        500.054675   \n3      3370   3389  11.928571        410.892738   \n4      3370   3394  11.965116        139.153721   \n\n   standard_deviation_travel_time  geometric_mean_travel_time  \\\n0                      247.637500                   98.230000   \n1                      133.311951                  247.314146   \n2                      155.939221                  480.618052   \n3                      152.570595                  389.518810   \n4                       93.618953                  112.394302   \n\n   geometric_standard_deviation_travel_time  \n0                                  2.422500  \n1                                  1.617439  \n2                                  1.311688  \n3                                  1.366548  \n4                                  2.127907  ",
      "text/html": "<div>\n<style scoped>\n    .dataframe tbody tr th:only-of-type {\n        vertical-align: middle;\n    }\n\n    .dataframe tbody tr th {\n        vertical-align: top;\n    }\n\n    .dataframe thead th {\n        text-align: right;\n    }\n</style>\n<table border=\"1\" class=\"dataframe\">\n  <thead>\n    <tr style=\"text-align: right;\">\n      <th></th>\n      <th>sourceid</th>\n      <th>dstid</th>\n      <th>hod</th>\n      <th>mean_travel_time</th>\n      <th>standard_deviation_travel_time</th>\n      <th>geometric_mean_travel_time</th>\n      <th>geometric_standard_deviation_travel_time</th>\n    </tr>\n  </thead>\n  <tbody>\n    <tr>\n      <th>0</th>\n      <td>3370</td>\n      <td>3370</td>\n      <td>23.000000</td>\n      <td>157.625000</td>\n      <td>247.637500</td>\n      <td>98.230000</td>\n      <td>2.422500</td>\n    </tr>\n    <tr>\n      <th>1</th>\n      <td>3370</td>\n      <td>3372</td>\n      <td>11.621951</td>\n      <td>272.992927</td>\n      <td>133.311951</td>\n      <td>247.314146</td>\n      <td>1.617439</td>\n    </tr>\n    <tr>\n      <th>2</th>\n      <td>3370</td>\n      <td>3375</td>\n      <td>11.545455</td>\n      <td>500.054675</td>\n      <td>155.939221</td>\n      <td>480.618052</td>\n      <td>1.311688</td>\n    </tr>\n    <tr>\n      <th>3</th>\n      <td>3370</td>\n      <td>3389</td>\n      <td>11.928571</td>\n      <td>410.892738</td>\n      <td>152.570595</td>\n      <td>389.518810</td>\n      <td>1.366548</td>\n    </tr>\n    <tr>\n      <th>4</th>\n      <td>3370</td>\n      <td>3394</td>\n      <td>11.965116</td>\n      <td>139.153721</td>\n      <td>93.618953</td>\n      <td>112.394302</td>\n      <td>2.127907</td>\n    </tr>\n  </tbody>\n</table>\n</div>"
     },
     "execution_count": 29,
     "metadata": {},
     "output_type": "execute_result"
    }
   ],
   "source": [
    "df_avg_taz.head()"
   ],
   "metadata": {
    "collapsed": false,
    "pycharm": {
     "name": "#%%\n"
    }
   }
  },
  {
   "cell_type": "code",
   "execution_count": 30,
   "outputs": [],
   "source": [
    "df_map_speed_filtered = df_map_speed[[\"osm_way_id\", \"speed_mph_mean\", \"speed_mph_stddev\", \"speed_mph_p50\", \"speed_mph_p85\"]]\n",
    "df_avg_speed = df_map_speed_filtered.groupby(\"osm_way_id\").mean()"
   ],
   "metadata": {
    "collapsed": false,
    "pycharm": {
     "name": "#%%\n"
    }
   }
  },
  {
   "cell_type": "code",
   "execution_count": 31,
   "outputs": [
    {
     "data": {
      "text/plain": "   osm_way_id  speed_mph_mean  speed_mph_stddev  speed_mph_p50  speed_mph_p85\n0     5071582       58.022448         11.353969      59.317385      68.703073\n1     7373728       12.755220          3.376898      12.760051      15.583475\n2     7373736       15.057708          4.615004      15.112352      19.272696\n3     7448875       17.100707          3.629133      17.227733      20.556253\n4     8914965       17.462577          5.027654      16.890462      21.902500",
      "text/html": "<div>\n<style scoped>\n    .dataframe tbody tr th:only-of-type {\n        vertical-align: middle;\n    }\n\n    .dataframe tbody tr th {\n        vertical-align: top;\n    }\n\n    .dataframe thead th {\n        text-align: right;\n    }\n</style>\n<table border=\"1\" class=\"dataframe\">\n  <thead>\n    <tr style=\"text-align: right;\">\n      <th></th>\n      <th>osm_way_id</th>\n      <th>speed_mph_mean</th>\n      <th>speed_mph_stddev</th>\n      <th>speed_mph_p50</th>\n      <th>speed_mph_p85</th>\n    </tr>\n  </thead>\n  <tbody>\n    <tr>\n      <th>0</th>\n      <td>5071582</td>\n      <td>58.022448</td>\n      <td>11.353969</td>\n      <td>59.317385</td>\n      <td>68.703073</td>\n    </tr>\n    <tr>\n      <th>1</th>\n      <td>7373728</td>\n      <td>12.755220</td>\n      <td>3.376898</td>\n      <td>12.760051</td>\n      <td>15.583475</td>\n    </tr>\n    <tr>\n      <th>2</th>\n      <td>7373736</td>\n      <td>15.057708</td>\n      <td>4.615004</td>\n      <td>15.112352</td>\n      <td>19.272696</td>\n    </tr>\n    <tr>\n      <th>3</th>\n      <td>7448875</td>\n      <td>17.100707</td>\n      <td>3.629133</td>\n      <td>17.227733</td>\n      <td>20.556253</td>\n    </tr>\n    <tr>\n      <th>4</th>\n      <td>8914965</td>\n      <td>17.462577</td>\n      <td>5.027654</td>\n      <td>16.890462</td>\n      <td>21.902500</td>\n    </tr>\n  </tbody>\n</table>\n</div>"
     },
     "execution_count": 31,
     "metadata": {},
     "output_type": "execute_result"
    }
   ],
   "source": [
    "df_avg_speed = df_avg_speed.reset_index()\n",
    "df_avg_speed.head()"
   ],
   "metadata": {
    "collapsed": false,
    "pycharm": {
     "name": "#%%\n"
    }
   }
  },
  {
   "cell_type": "code",
   "execution_count": 32,
   "outputs": [],
   "source": [
    "df_map_speed_filtered = df_map_speed[[\"osm_way_id\", \"speed_mph_mean\", \"speed_mph_stddev\", \"speed_mph_p50\", \"speed_mph_p85\"]]\n",
    "df_avg_speed = df_map_speed_filtered.groupby(\"osm_way_id\").mean()"
   ],
   "metadata": {
    "collapsed": false,
    "pycharm": {
     "name": "#%%\n"
    }
   }
  },
  {
   "cell_type": "code",
   "execution_count": 33,
   "outputs": [
    {
     "data": {
      "text/plain": "(9496, 4)"
     },
     "execution_count": 33,
     "metadata": {},
     "output_type": "execute_result"
    }
   ],
   "source": [
    "df_avg_speed.shape"
   ],
   "metadata": {
    "collapsed": false,
    "pycharm": {
     "name": "#%%\n"
    }
   }
  },
  {
   "cell_type": "code",
   "execution_count": 34,
   "outputs": [],
   "source": [
    "df_avg_speed.to_csv(\"../data/avg_speed_sf_n_o.csv\", index=False)"
   ],
   "metadata": {
    "collapsed": false,
    "pycharm": {
     "name": "#%%\n"
    }
   }
  },
  {
   "cell_type": "code",
   "execution_count": 35,
   "outputs": [],
   "source": [
    "df_avg_taz.to_csv(\"../data/avg_taz_travel_time_sf_n_o.csv\",index=False)"
   ],
   "metadata": {
    "collapsed": false,
    "pycharm": {
     "name": "#%%\n"
    }
   }
  },
  {
   "cell_type": "code",
   "execution_count": 36,
   "outputs": [],
   "source": [
    "df_avg_taz.to_json(\"../data/avg_taz_travel_time_sf_n_o.json\")"
   ],
   "metadata": {
    "collapsed": false,
    "pycharm": {
     "name": "#%%\n"
    }
   }
  },
  {
   "cell_type": "code",
   "execution_count": null,
   "outputs": [],
   "source": [],
   "metadata": {
    "collapsed": false,
    "pycharm": {
     "name": "#%%\n"
    }
   }
  }
 ],
 "metadata": {
  "kernelspec": {
   "display_name": "Python 3",
   "language": "python",
   "name": "python3"
  },
  "language_info": {
   "codemirror_mode": {
    "name": "ipython",
    "version": 2
   },
   "file_extension": ".py",
   "mimetype": "text/x-python",
   "name": "python",
   "nbconvert_exporter": "python",
   "pygments_lexer": "ipython2",
   "version": "2.7.6"
  }
 },
 "nbformat": 4,
 "nbformat_minor": 0
}